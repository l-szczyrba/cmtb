{
 "cells": [
  {
   "cell_type": "markdown",
   "id": "02a13233",
   "metadata": {},
   "source": [
    "# High Level Coastal Model Test Bed (CMTB) SWASH 1D Example "
   ]
  },
  {
   "cell_type": "markdown",
   "id": "a974db70",
   "metadata": {},
   "source": [
    "#### This notebook demonstrates CMTB integrated capabilities\n",
    "    CMTB sets this up as a \"skinny\" 2D simulation that is effectively 1D\n",
    "    Notebook users will have to download CMTB from github and install the required python packages\n",
    "    Users select simulation settings in the User Input Cell and can walk through the rest of the code\n",
    "    Once CMTB writes the input files, users can run SWASH separately in a command line interface \n",
    "    (commands listed at end of notebook) OR, if users have a SWASH mpiexec compiled (aka SWASH compiled in parallel mode),    \n",
    "    users may run SWASH via CMTB"
   ]
  },
  {
   "cell_type": "code",
   "execution_count": 9,
   "id": "6e84ee98",
   "metadata": {},
   "outputs": [],
   "source": [
    "import sys\n",
    "sys.path.insert(0, '/Users/lszcz/Documents/CMTB/cmtb/')\n",
    "\n",
    "from getdatatestbed import getDataFRF\n",
    "from getdatatestbed.getDataFRF import getDataTestBed\n",
    "from frontback import frontBackNEW\n",
    "from prepdata import writeRunRead as wrr\n",
    "\n",
    "import datetime as dt"
   ]
  },
  {
   "cell_type": "markdown",
   "id": "f1f4c282",
   "metadata": {},
   "source": [
    "## User Input Cell: Declare input settings"
   ]
  },
  {
   "cell_type": "code",
   "execution_count": 10,
   "id": "acfa5edf",
   "metadata": {},
   "outputs": [],
   "source": [
    "workingDir = '/Users/lszcz/Documents/CMTB/cmtb/data'\n",
    "exe = '/mirror/swash/swash.exe''\n",
    "testName = 'swash1D_test_mpi'\n",
    "versionPrefix='base'\n",
    "\n",
    "# Select simulated period\n",
    "startTime = dt.datetime(2019,10,11,15,0,0)\n",
    "date_str = '2019-10-11'\n",
    "endTime = dt.datetime(2019,10,11,16,0,0)\n",
    "simulationDuration = 1\n",
    "spinup = 900                                        # initial spinup time before model output (in seconds)\n",
    "ncores = 18                                         # number of cores to use\n",
    "\n",
    "# Select bathymetric setting\n",
    "bathy_loc = 'survey'\n",
    "profile_num = 945\n",
    "xmin = 25\n",
    "xmax = 915\n",
    "dx = 1\n",
    "dy = 1\n",
    "fric_fac = 0.015\n",
    "\n",
    "# Select sensor for boundary conditions\n",
    "sensor = '8m-array'\n"
   ]
  },
  {
   "cell_type": "markdown",
   "id": "fbee3c73",
   "metadata": {},
   "source": [
    "## Auto-format additional variables "
   ]
  },
  {
   "cell_type": "code",
   "execution_count": 11,
   "id": "39cf1b97",
   "metadata": {},
   "outputs": [],
   "source": [
    "runDuration = (endTime - startTime).total_seconds()\n",
    "ymin = profile_num - dy\n",
    "ymax = profile_num + dy"
   ]
  },
  {
   "cell_type": "markdown",
   "id": "7bc228f1",
   "metadata": {},
   "source": [
    "## Create input dictionary "
   ]
  },
  {
   "cell_type": "code",
   "execution_count": 12,
   "id": "fe5df7f5",
   "metadata": {},
   "outputs": [],
   "source": [
    "Inputs = {}\n",
    "Inputs['THREDDS'] = 'CHL'\n",
    "Inputs['bathyLoc'] = 'integrated_bathy'\n",
    "Inputs['startTime'] = dt.datetime.strftime(startTime,'%Y-%m-%dT%H:%M:%SZ')\n",
    "Inputs['endTime'] = dt.datetime.strftime(endTime,'%Y-%m-%dT%H:%M:%SZ')\n",
    "Inputs['modelSettings'] = {}\n",
    "Inputs['modelSettings']['version_prefix'] = 'base'\n",
    "Inputs['modelSettings']['yBounds'] = [ymin, ymax+1]\n",
    "Inputs['modelSettings']['grid'] = '1D'\n",
    "Inputs['modelSettings']['modelName'] = 'swash'\n",
    "Inputs['profileNumber'] = profile_num\n",
    "Inputs['simulationDuration'] = simulationDuration\n",
    "Inputs['modelExecutable'] = '/Users/lszcz/Documents/CMTB/cmtb/data/swash.exe'\n",
    "Inputs['workingDirectory'] = '/data'\n",
    "Inputs['netCDFdir'] = '/data'\n",
    "Inputs['logfileLoc'] = 'data'\n",
    "Inputs['plotFlag'] = False\n",
    "Inputs['generateFlag'] = True\n",
    "Inputs['runFlag'] = True\n",
    "Inputs['analyzeFlag'] = False"
   ]
  },
  {
   "cell_type": "markdown",
   "id": "5837c251",
   "metadata": {},
   "source": [
    "## Gather data"
   ]
  },
  {
   "cell_type": "code",
   "execution_count": 13,
   "id": "5d841704",
   "metadata": {},
   "outputs": [
    {
     "name": "stdout",
     "output_type": "stream",
     "text": [
      "https://chldata.erdc.dren.mil/thredds/dodsC/frf/oceanography/waves/8m-array/2019/FRF-ocean_waves_8m-array_201910.nc\n",
      "https://chldata.erdc.dren.mil/thredds/dodsC/frf/oceanography/waterlevel/eopNoaaTide/2019/FRF-ocean_waterlevel_eopNoaaTide_201910.nc\n",
      "https://chldata.erdc.dren.mil/thredds/dodsC/frf/meteorology/wind/derived/2019/FRF-met_wind_derived_201910.nc\n"
     ]
    }
   ],
   "source": [
    "go = getDataFRF.getObs(startTime,endTime)     # initialize go command\n",
    "wave_spec = go.getWaveData(sensor,spec=True)  # grab raw spectra\n",
    "wl = go.getWL()                               # grab raw water levels\n",
    "gdTB = getDataTestBed(startTime, endTime)     # initialize gdTB command\n",
    "rawwind = go.getWind(gaugenumber=0)"
   ]
  },
  {
   "cell_type": "markdown",
   "id": "baea545c",
   "metadata": {},
   "source": [
    "## Initialize swio"
   ]
  },
  {
   "cell_type": "code",
   "execution_count": 14,
   "id": "620a73b2",
   "metadata": {},
   "outputs": [],
   "source": [
    "swio = wrr.swashIO(workingDirectory=workingDir, testName=testName,\n",
    "                   versionPrefix=versionPrefix, startTime=startTime,\n",
    "                   simulatedRunTime=simulationDuration,\n",
    "                   endTime=endTime, runFlag=Inputs['runFlag'],\n",
    "                   generateFlag=Inputs['generateFlag'], readFlag=Inputs['analyzeFlag'],\n",
    "                   newModelParams=Inputs['modelSettings'])"
   ]
  },
  {
   "cell_type": "markdown",
   "id": "7d569842",
   "metadata": {},
   "source": [
    "## Get AND prep bathy, prep wave and waterlevel packets formatted for SWASH input"
   ]
  },
  {
   "cell_type": "code",
   "execution_count": 15,
   "id": "fb005d9a",
   "metadata": {},
   "outputs": [
    {
     "name": "stdout",
     "output_type": "stream",
     "text": [
      "\n",
      "-\n",
      "-\n",
      "MASTER WorkFLOW for swash SIMULATIONS\n",
      "-\n",
      "-\n",
      "\n",
      "Batch Process Start: 2019-10-11 15:00:00     Finish: 2019-10-11 15:30:00 \n",
      "The batch simulation is Run in /Users/lszcz/Documents/CMTB/cmtb/data\\swash1D_test_high Version\n",
      "Check for simulation errors here None\n",
      "------------------------------------\n",
      "\n",
      "************************************\n",
      "\n",
      "------------------------------------\n",
      "\n",
      "\n",
      "simulation input/output files and plots will be place in /Users/lszcz/Documents/CMTB/cmtb/data\\swash1D_test_high folder\n",
      "TODO: discussion - currently grabbing bathy in simSetup -- should i be? [frontBackNew.swashSimSetup]\n",
      "  -- 1 WL records with 0 interpolated points\n",
      "https://chldata.erdc.dren.mil/thredds/dodsC/cmtb/integratedBathyProduct/survey/survey.ncml\n",
      "Bathymetry is taken as closest in HISTORY - operational\n"
     ]
    }
   ],
   "source": [
    "wavePacket, windPacket, wlPacket, bathyPacket, swio = frontBackNEW.swashSimSetup(Inputs['startTime'],\n",
    "                                                        inputDict=Inputs,\n",
    "                                                        allWL=wl,\n",
    "                                                        allWind=rawwind,\n",
    "                                                        allWave=wave_spec,\n",
    "                                                        wrr=swio)"
   ]
  },
  {
   "cell_type": "markdown",
   "id": "c456be67",
   "metadata": {},
   "source": [
    "## Write SWASH files"
   ]
  },
  {
   "cell_type": "code",
   "execution_count": 8,
   "id": "e028a830",
   "metadata": {},
   "outputs": [
    {
     "name": "stdout",
     "output_type": "stream",
     "text": [
      "TODO: Replacing parameters.... whats left can be warned at the end of this process [wrr.swashIO_replaceDefaultParams]\n",
      "still processing dict_keys(['version_prefix', 'yBounds', 'grid', 'modelName']) from 'modelSettings' in input file\n",
      "writing all swash input files\n",
      " TODO: calculate equlib time based on conditions [wrr.writeSWS]\n"
     ]
    }
   ],
   "source": [
    "swio.writeAllFiles(wavePacket=wavePacket,wlPacket=wlPacket,\n",
    "                                  bathyPacket=bathyPacket)"
   ]
  },
  {
   "cell_type": "markdown",
   "id": "5e9d0fbe",
   "metadata": {},
   "source": [
    "## -----------------------------------------------------------------------------------------\n",
    "## Run SWASH"
   ]
  },
  {
   "cell_type": "code",
   "execution_count": null,
   "id": "5a6691ad",
   "metadata": {},
   "outputs": [],
   "source": [
    "swio.runSimulation(exe)"
   ]
  },
  {
   "cell_type": "markdown",
   "id": "fb0c879f",
   "metadata": {},
   "source": [
    "## -----------------------------------------------------------------------------------------\n",
    "## Load in results"
   ]
  },
  {
   "cell_type": "code",
   "execution_count": null,
   "id": "5ba8cbe4",
   "metadata": {},
   "outputs": [],
   "source": [
    "os.chdir(swio.workingDirectory)                               # add path to results .mat file to directory\n",
    "[dataDict, metaDict] = swio.loadSwash_Mat(testName+'.mat')    # load in formatted results\n",
    "    # produces a benign error"
   ]
  },
  {
   "cell_type": "code",
   "execution_count": null,
   "id": "b4542723",
   "metadata": {},
   "outputs": [],
   "source": [
    "fspec, freqs = sbwave.timeSeriesAnalysis1D(dataDict['time'].squeeze(), dataDict['eta'].squeeze(), bandAvg=6)\n",
    "Stats = sbwave.stats1D(fspec=fspec, frqbins=freqs, lowFreq=None, highFreq=None)\n",
    "HsTS = 4 * np.std(dataDict['eta'].squeeze(), axis=0)"
   ]
  },
  {
   "cell_type": "code",
   "execution_count": null,
   "id": "bb39c271",
   "metadata": {},
   "outputs": [],
   "source": [
    "plt.figure()\n",
    "plt.plot(dataDict['xFRF'],HsTS)\n",
    "plt.ylabel('$H_s$ (m)')\n",
    "plt.xlabel('x (m)')\n",
    "plt.show()"
   ]
  },
  {
   "cell_type": "code",
   "execution_count": null,
   "id": "1bc3a28d",
   "metadata": {},
   "outputs": [],
   "source": [
    "generate_CrossShoreTimeseries(workingDir+'/'+testName+'/img', np.mean(dataDict['eta'].squeeze(), axis=0), dataDict['elevation'], dataDict['xFRF'])"
   ]
  },
  {
   "cell_type": "code",
   "execution_count": null,
   "id": "b9b78c9a",
   "metadata": {},
   "outputs": [],
   "source": [
    "from IPython.display import Image\n",
    "Image(workingDir+'/'+testName+'/img'+'.png')"
   ]
  }
 ],
 "metadata": {
  "kernelspec": {
   "display_name": "Python 3 (ipykernel)",
   "language": "python",
   "name": "python3"
  },
  "language_info": {
   "codemirror_mode": {
    "name": "ipython",
    "version": 3
   },
   "file_extension": ".py",
   "mimetype": "text/x-python",
   "name": "python",
   "nbconvert_exporter": "python",
   "pygments_lexer": "ipython3",
   "version": "3.8.8"
  }
 },
 "nbformat": 4,
 "nbformat_minor": 5
}
