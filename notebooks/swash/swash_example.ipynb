{
 "cells": [
  {
   "cell_type": "markdown",
   "id": "cd1aa9ea",
   "metadata": {},
   "source": [
    "# Coastal Model Test Bed (CMTB) SWASH 1D Example "
   ]
  },
  {
   "cell_type": "markdown",
   "id": "93d32e7d",
   "metadata": {},
   "source": [
    "#### This notebook walks through the CMTB SWASH 1D Workflow\n",
    "    CMTB sets this up as a \"skinny\" 2D simulation that is effectively 1D\n",
    "    Notebook users will have to download CMTB from github and install the required python packages\n",
    "    Users select simulation settings in the User Input Cell and can walk through the rest of the code\n",
    "    Once CMTB writes the input files, users can run SWASH separately in a command line interface \n",
    "    (commands listed at end of notebook) OR, if users have a SWASH mpiexec compiled (aka SWASH compiled in parallel mode),    \n",
    "    users may run SWASH via CMTB"
   ]
  },
  {
   "cell_type": "markdown",
   "id": "b1a304a5",
   "metadata": {},
   "source": [
    "## Load packages and libraries"
   ]
  },
  {
   "cell_type": "code",
   "execution_count": 52,
   "id": "7797d0ff",
   "metadata": {},
   "outputs": [],
   "source": [
    "import sys\n",
    "sys.path.insert(0, '/Users/lszcz/Documents/CMTB/cmtb/')\n",
    "\n",
    "# CMTB \n",
    "from prepdata.prepDataLib import PrepDataTools as preptools\n",
    "from getdatatestbed import getDataFRF\n",
    "from getdatatestbed.getDataFRF import getDataTestBed\n",
    "from prepdata import writeRunRead as wrr\n",
    "from testbedutils import waveLib as sbwave\n",
    "from subprocess import check_output\n",
    "from plotting.operationalPlots import generate_CrossShoreTimeseries\n",
    "\n",
    "# Standard utilities\n",
    "import datetime as dt\n",
    "import numpy as np\n",
    "import os\n",
    "import matplotlib\n",
    "import matplotlib.pyplot as plt\n",
    "import netCDF4 as nc4"
   ]
  },
  {
   "cell_type": "markdown",
   "id": "7d8ae1d2",
   "metadata": {},
   "source": [
    "## User Input Cell: Declare input settings"
   ]
  },
  {
   "cell_type": "code",
   "execution_count": 2,
   "id": "3f39ac02",
   "metadata": {},
   "outputs": [],
   "source": [
    "# Organizational settings\n",
    "workingDir = '/Users/lszcz/Documents/CMTB/cmtb/data'\n",
    "exe = '/mirror/swash/swash.exe'\n",
    "testName = 'swash1D_test_mpi'\n",
    "versionPrefix='base'   \n",
    "\n",
    "# Select simulated period\n",
    "date_str = '2019-10-11' \n",
    "startTime = dt.datetime(2019,10,11,15,0,0)          # Start time, Year, month, day, hour\n",
    "endTime = dt.datetime(2019,10,11,16,0,0)            # Stop time, 1 hour after start time, Year, month, day, hour\n",
    "simulationDuration = 1                              # length of time for simulated event (should be 1 hour)\n",
    "spinup = 900                                        # initial spinup time before model output (in seconds)\n",
    "ncores = 18                                         # number of cores to use\n",
    "\n",
    "# Select bathymetric setting\n",
    "bathy_loc = 'survey'\n",
    "profile_num = 945                                   # FRF profile number\n",
    "survey_date = dt.datetime(2019, 10, 15, 23)         # Select survey date (always include 23 aka 11 pm to search for any profile collected that day)\n",
    "xmin = 25                                           # Onshore extent in FRF coordinates\n",
    "xmax = 915                                          # Offshore extent in FRF coordinates\n",
    "dx = 1                                              # Resolution in x\n",
    "dy = 1                                              # Resolution in y \n",
    "fric_fac = 0.015\n",
    "\n",
    "# Select sensor for boundary conditions\n",
    "sensor = '8m-array'                                 # FRF Sensor used to pull wave conditions"
   ]
  },
  {
   "cell_type": "markdown",
   "id": "8e1ed2dd",
   "metadata": {},
   "source": [
    "***\n",
    "***\n",
    "***"
   ]
  },
  {
   "cell_type": "markdown",
   "id": "094a9a32",
   "metadata": {},
   "source": [
    "## Auto-format additional variables"
   ]
  },
  {
   "cell_type": "code",
   "execution_count": 3,
   "id": "2f784ad3",
   "metadata": {},
   "outputs": [],
   "source": [
    "runDuration = (endTime - startTime).total_seconds()\n",
    "ymin = profile_num - dy                                              # Extending selected transect for \"Psuedo 1D\" simulation, allowing for a skinny alongshore interpolated grid\n",
    "ymax = profile_num + dy\n",
    "\n",
    "waveTimeList = preptools.timeLists(startTime,endTime,30*60)          # dt in hours\n",
    "wlTimeList = preptools.timeLists(startTime+dt.timedelta(minutes=30), # Finds 1 water level halfway through the target event\n",
    "                                 endTime,30*60)  "
   ]
  },
  {
   "cell_type": "markdown",
   "id": "9486819c",
   "metadata": {},
   "source": [
    "## Gather raw data"
   ]
  },
  {
   "cell_type": "markdown",
   "id": "6777efc8",
   "metadata": {},
   "source": [
    "Waves and water levels"
   ]
  },
  {
   "cell_type": "code",
   "execution_count": 4,
   "id": "85167670",
   "metadata": {},
   "outputs": [],
   "source": [
    "go = getDataFRF.getObs(startTime,endTime)    # initialize go command with simulated period"
   ]
  },
  {
   "cell_type": "code",
   "execution_count": 5,
   "id": "956cd954",
   "metadata": {},
   "outputs": [
    {
     "name": "stdout",
     "output_type": "stream",
     "text": [
      "https://chldata.erdc.dren.mil/thredds/dodsC/frf/oceanography/waves/8m-array/2019/FRF-ocean_waves_8m-array_201910.nc\n",
      "https://chldata.erdc.dren.mil/thredds/dodsC/frf/oceanography/waterlevel/eopNoaaTide/2019/FRF-ocean_waterlevel_eopNoaaTide_201910.nc\n"
     ]
    }
   ],
   "source": [
    "wave_spec = go.getWaveData(sensor,spec=True) # grab raw spectra\n",
    "wl = go.getWL()                              # grab raw water levels"
   ]
  },
  {
   "cell_type": "markdown",
   "id": "92e9e24e",
   "metadata": {},
   "source": [
    "Bathymetry"
   ]
  },
  {
   "cell_type": "code",
   "execution_count": 6,
   "id": "e3d9696f",
   "metadata": {},
   "outputs": [],
   "source": [
    "gdTB = getDataTestBed(startTime, endTime)    # initialize gdTB command with simulated period"
   ]
  },
  {
   "cell_type": "code",
   "execution_count": 7,
   "id": "d0c6e8a0",
   "metadata": {},
   "outputs": [
    {
     "name": "stdout",
     "output_type": "stream",
     "text": [
      "!!!Forced bathy date 2019-10-15 23:00:00\n",
      "https://chldata.erdc.dren.mil/thredds/dodsC/cmtb/integratedBathyProduct/survey/survey.ncml\n",
      "Bathymetry is taken as closest in HISTORY - operational\n"
     ]
    }
   ],
   "source": [
    "bathy_data = gdTB.getBathyIntegratedTransect(method=1,                     # Gathers relevant data (beyond designated bounds) to pass into prepbathy for interpolation\n",
    "                                             ForcedSurveyDate=survey_date, \n",
    "                                             ybounds=[ymin, ymax])        "
   ]
  },
  {
   "cell_type": "markdown",
   "id": "1a832afc",
   "metadata": {},
   "source": [
    "Check out raw data"
   ]
  },
  {
   "cell_type": "code",
   "execution_count": 8,
   "id": "41bf8025",
   "metadata": {},
   "outputs": [
    {
     "data": {
      "image/png": "[encoded data removed]",
      "text/plain": [
       "<Figure size 432x288 with 1 Axes>"
      ]
     },
     "metadata": {
      "needs_background": "light"
     },
     "output_type": "display_data"
    }
   ],
   "source": [
    "plt.figure()\n",
    "plt.plot(wave_spec['wavefreqbin'], wave_spec['fspec'])\n",
    "plt.ylabel('E [$m^2/Hz$]')\n",
    "plt.xlabel('Frequency [$Hz$]')\n",
    "plt.show()"
   ]
  },
  {
   "cell_type": "code",
   "execution_count": 9,
   "id": "15307d8d",
   "metadata": {},
   "outputs": [
    {
     "data": {
      "image/png": "[encoded data removed]",
      "text/plain": [
       "<Figure size 432x288 with 1 Axes>"
      ]
     },
     "metadata": {
      "needs_background": "light"
     },
     "output_type": "display_data"
    }
   ],
   "source": [
    "rmesh, thetamesh = np.meshgrid(wave_spec['wavefreqbin'],wave_spec['wavedirbin'])\n",
    "thetamesh = thetamesh*np.pi/180\n",
    "fig, ax = plt.subplots(subplot_kw=dict(projection='polar'))\n",
    "E_2D_plot = wave_spec['dWED'].T\n",
    "ax.contourf(np.flip(thetamesh), rmesh,E_2D_plot,10)\n",
    "ax.set_theta_zero_location(\"N\")\n",
    "plt.show()"
   ]
  },
  {
   "cell_type": "code",
   "execution_count": 10,
   "id": "724859f6",
   "metadata": {},
   "outputs": [
    {
     "data": {
      "image/png": "[encoded data removed]",
      "text/plain": [
       "<Figure size 432x288 with 1 Axes>"
      ]
     },
     "metadata": {
      "needs_background": "light"
     },
     "output_type": "display_data"
    }
   ],
   "source": [
    "plt.plot(wl['time'], wl['WL'])\n",
    "plt.ylabel('$\\eta$ [$m$]')\n",
    "plt.xlabel('time [$s$]')\n",
    "plt.show()"
   ]
  },
  {
   "cell_type": "markdown",
   "id": "1443e3f1",
   "metadata": {},
   "source": [
    "## Format gathered raw data for SWASH input"
   ]
  },
  {
   "cell_type": "code",
   "execution_count": 11,
   "id": "0fd88a23",
   "metadata": {},
   "outputs": [],
   "source": [
    "prepdata = preptools() # initialize prepdata command"
   ]
  },
  {
   "cell_type": "markdown",
   "id": "c5eb10ff",
   "metadata": {},
   "source": [
    "Process wave packet"
   ]
  },
  {
   "cell_type": "code",
   "execution_count": 12,
   "id": "9b7ce294",
   "metadata": {},
   "outputs": [],
   "source": [
    "good_freqs = wave_spec['wavefreqbin'][wave_spec['fspec'].mask == False]   \n",
    "    # Above needed otherwise will interpolated frequencies beyond sensor range, skewing energy levels down to -999\n",
    "wavePacket = prepdata.prep_spec_phaseResolved(rawspec=wave_spec, \n",
    "                                              version_prefix=versionPrefix, \n",
    "                                              grid='1D',\n",
    "                                              spinUpTime=spinup, \n",
    "                                              runDuration=runDuration,\n",
    "                                              freqRange=[min(good_freqs), max(good_freqs)]) # Filter down to \"good\" frequencies"
   ]
  },
  {
   "cell_type": "markdown",
   "id": "3675869c",
   "metadata": {},
   "source": [
    "Process water level packet"
   ]
  },
  {
   "cell_type": "code",
   "execution_count": 13,
   "id": "70288ebf",
   "metadata": {},
   "outputs": [
    {
     "name": "stdout",
     "output_type": "stream",
     "text": [
      "  -- 1 WL records with 0 interpolated points\n"
     ]
    }
   ],
   "source": [
    "wlPacket = prepdata.prep_WL(wl,wlTimeList)\n",
    "        # Should return 1 record for SWASH input"
   ]
  },
  {
   "cell_type": "markdown",
   "id": "bf8d31bf",
   "metadata": {},
   "source": [
    "Process bathy packet"
   ]
  },
  {
   "cell_type": "code",
   "execution_count": 14,
   "id": "5a326907",
   "metadata": {},
   "outputs": [],
   "source": [
    "bathyPacket = prepdata.prep_SwashBathy(x0=xmin, \n",
    "                                       y0=profile_num-1, \n",
    "                                       bathy=bathy_data, \n",
    "                                       xBounds=[xmin, xmax+1], \n",
    "                                       yBounds = [ymin,ymax+1], \n",
    "                                       dx=dx, dy=dy)\n",
    "        # if 1D, ybounds should be numbers surrounding target profile number (established in user input cell)\n",
    "        # Xbounds and Ybounds plus 1 because python is 0-indexed"
   ]
  },
  {
   "cell_type": "markdown",
   "id": "2555ca09",
   "metadata": {},
   "source": [
    "Check out processed data"
   ]
  },
  {
   "cell_type": "code",
   "execution_count": 15,
   "id": "835175e1",
   "metadata": {},
   "outputs": [
    {
     "data": {
      "image/png": "[encoded data removed]",
      "text/plain": [
       "<Figure size 432x288 with 1 Axes>"
      ]
     },
     "metadata": {
      "needs_background": "light"
     },
     "output_type": "display_data"
    }
   ],
   "source": [
    "h = bathyPacket['elevation']\n",
    "h = h[2,:]                          # Identify target profile\n",
    "plt.figure()\n",
    "plt.plot(bathyPacket['xFRF'], h)\n",
    "plt.ylabel('h [$m$]')\n",
    "plt.xlabel('x [$m$]')\n",
    "plt.show()"
   ]
  },
  {
   "cell_type": "code",
   "execution_count": 16,
   "id": "ae534253",
   "metadata": {},
   "outputs": [
    {
     "data": {
      "image/png": "[encoded data removed]",
      "text/plain": [
       "<Figure size 432x288 with 1 Axes>"
      ]
     },
     "metadata": {
      "needs_background": "light"
     },
     "output_type": "display_data"
    }
   ],
   "source": [
    "plt.figure()\n",
    "plt.plot(wavePacket['freqbins'], wavePacket['fspec'])\n",
    "plt.ylabel('E [$m^2/Hz$]')\n",
    "plt.xlabel('Frequency [$Hz$]')\n",
    "plt.show()"
   ]
  },
  {
   "cell_type": "code",
   "execution_count": 17,
   "id": "ce937502",
   "metadata": {},
   "outputs": [
    {
     "data": {
      "image/png": "[encoded data removed]",
      "text/plain": [
       "<Figure size 432x288 with 1 Axes>"
      ]
     },
     "metadata": {
      "needs_background": "light"
     },
     "output_type": "display_data"
    }
   ],
   "source": [
    "plt.figure()\n",
    "plt.plot(wl['time'],wl['WL'])\n",
    "plt.plot(wlPacket['time'],wlPacket['avgWL'],marker=\"o\", markersize=20)\n",
    "plt.ylabel('Water Level (m)')\n",
    "plt.xlabel('Date')\n",
    "plt.legend(('Raw WL','Input WL'))\n",
    "plt.show()"
   ]
  },
  {
   "cell_type": "markdown",
   "id": "811a4393",
   "metadata": {},
   "source": [
    "## Setup the SWASH model"
   ]
  },
  {
   "cell_type": "code",
   "execution_count": 18,
   "id": "5514b05d",
   "metadata": {},
   "outputs": [],
   "source": [
    "swio = wrr.swashIO(WL=wlPacket['avgWL'], \n",
    "                   equilbTime=wavePacket['spinUp'],  \n",
    "                   Hs=wavePacket['Hs'], \n",
    "                   Tp=1/wavePacket['peakf'],\n",
    "                   Dm=wavePacket['waveDm'],\n",
    "                   workingDirectory=workingDir, \n",
    "                   testName=testName, fileNameBase=date_str,\n",
    "                   version_prefix=versionPrefix, \n",
    "                   runTime=simulationDuration, \n",
    "                   startTime=startTime, \n",
    "                   endTime=endTime,\n",
    "                   runFlag=True, \n",
    "                   generateFlag=False,\n",
    "                   readFlag=True)\n",
    "    # Above initializes swio command"
   ]
  },
  {
   "cell_type": "code",
   "execution_count": 19,
   "id": "6dfd3213",
   "metadata": {},
   "outputs": [
    {
     "name": "stdout",
     "output_type": "stream",
     "text": [
      "TODO: Replacing parameters.... whats left can be warned at the end of this process [wrr.swashIO_replaceDefaultParams]\n",
      "still processing dict_keys([]) from 'modelSettings' in input file\n"
     ]
    }
   ],
   "source": [
    "swio._replaceDefaultParams()                    # fill out swio command with default model settings\n",
    "\n",
    "if not os.path.isdir(swio.workingDirectory):    # make directory where input files stored\n",
    "    os.makedirs(swio.workingDirectory)\n",
    "os.chdir(swio.workingDirectory)\n",
    "\n",
    "swio._check_input()                             # final checks before writing"
   ]
  },
  {
   "cell_type": "markdown",
   "id": "7b1c7c4d",
   "metadata": {},
   "source": [
    "Write the input files"
   ]
  },
  {
   "cell_type": "code",
   "execution_count": 20,
   "id": "34516143",
   "metadata": {},
   "outputs": [
    {
     "name": "stdout",
     "output_type": "stream",
     "text": [
      " TODO: calculate equlib time based on conditions [wrr.writeSWS]\n"
     ]
    }
   ],
   "source": [
    "swio.write_spec1D(wavePacket['freqbins'], wavePacket['fspec'])      # writes the SWASH forcing.BND file\n",
    "swio.write_bot(bathyPacket['elevation'])                            # writes the SWASH bathy.BOT file\n",
    "swio.write_sws(gridDict=bathyPacket, WLpacket=wlPacket)             # writes the SWASH INPUT.sws file"
   ]
  },
  {
   "cell_type": "markdown",
   "id": "001b0e42",
   "metadata": {},
   "source": [
    "##  -----------------------------------------------------------------------------------------\n",
    "## (1) User runs SWASH separately: \n",
    "    Switch to command line, cd to the directory with input files, and run 'swash INPUT'"
   ]
  },
  {
   "cell_type": "markdown",
   "id": "61fd75b6",
   "metadata": {},
   "source": [
    "## (2) User runs SWASH mpiexec in this notebook: \n",
    "    Can be applied if user has SWASH compiled in parallel mode on their machine and can call mpiexec"
   ]
  },
  {
   "cell_type": "code",
   "execution_count": 24,
   "id": "3a26d524",
   "metadata": {},
   "outputs": [],
   "source": [
    "swio._generateRunStrings(exe)\n",
    "# overwriting below to account for windows running ubuntu shell on windows machine\n",
    "swio.runString1 = 'wsl mpiexec -n 18 /mirror/swash/swash.exe INPUT' "
   ]
  },
  {
   "cell_type": "code",
   "execution_count": 64,
   "id": "f1e0302d",
   "metadata": {},
   "outputs": [
    {
     "name": "stdout",
     "output_type": "stream",
     "text": [
      " TODO: check to make sure all data are in place and in required input dictionaries [wrr.preprocessCheck]\n",
      "Running swash Simulation starting at 2022-08-31 11:54:23.019465\n"
     ]
    }
   ],
   "source": [
    "swio._preprocessCheck()\n",
    "init_t = dt.datetime.now()\n",
    "print('Running {} Simulation starting at {}'.format(swio.modelName, init_t))\n",
    "\n",
    "_ = check_output(swio.runstring1, shell=False)            # RUN COMMAND"
   ]
  },
  {
   "cell_type": "markdown",
   "id": "31c1306c",
   "metadata": {},
   "source": [
    "## -----------------------------------------------------------------------------------------\n",
    "## Load in results"
   ]
  },
  {
   "cell_type": "code",
   "execution_count": 53,
   "id": "5d45b92d",
   "metadata": {},
   "outputs": [
    {
     "name": "stdout",
     "output_type": "stream",
     "text": [
      " loading SWASH data takes: 2.32 seconds\n"
     ]
    }
   ],
   "source": [
    "os.chdir(swio.workingDirectory)                               # add path to results .mat file to directory\n",
    "[dataDict, metaDict] = swio.loadSwash_Mat(testName+'.mat')    # load in formatted results\n",
    "    # produces a benign error"
   ]
  },
  {
   "cell_type": "markdown",
   "id": "3c15b839",
   "metadata": {},
   "source": [
    "Calculate some wave statistics"
   ]
  },
  {
   "cell_type": "code",
   "execution_count": 54,
   "id": "57f4c95f",
   "metadata": {},
   "outputs": [
    {
     "name": "stderr",
     "output_type": "stream",
     "text": [
      "/Users/lszcz/Documents/CMTB/cmtb\\testbedutils\\waveLib.py:492: UserWarning: neglected 1 freq bands (at highest frequency)\n",
      "  warnings.warn('neglected {} freq bands (at highest frequency)'.format(len(freqW) - max(avgIdxs)))\n"
     ]
    }
   ],
   "source": [
    "fspec, freqs = sbwave.timeSeriesAnalysis1D(dataDict['time'].squeeze(), dataDict['eta'].squeeze(), bandAvg=6)\n",
    "Stats = sbwave.stats1D(fspec=fspec, frqbins=freqs, lowFreq=None, highFreq=None)\n",
    "HsTS = 4 * np.std(dataDict['eta'].squeeze(), axis=0)"
   ]
  },
  {
   "cell_type": "markdown",
   "id": "318a36c1",
   "metadata": {},
   "source": [
    "Check out processed data"
   ]
  },
  {
   "cell_type": "code",
   "execution_count": 55,
   "id": "b82ad6a3",
   "metadata": {},
   "outputs": [
    {
     "data": {
      "image/png": "[encoded data removed]",
      "text/plain": [
       "<Figure size 432x288 with 1 Axes>"
      ]
     },
     "metadata": {
      "needs_background": "light"
     },
     "output_type": "display_data"
    }
   ],
   "source": [
    "plt.figure()\n",
    "plt.plot(dataDict['time'],dataDict['eta'][:,0,400])\n",
    "plt.ylabel('$\\eta$ (m)')\n",
    "plt.xlabel('Date')\n",
    "plt.show()"
   ]
  },
  {
   "cell_type": "code",
   "execution_count": 56,
   "id": "57084005",
   "metadata": {},
   "outputs": [
    {
     "data": {
      "image/png": "[encoded data removed]",
      "text/plain": [
       "<Figure size 432x288 with 1 Axes>"
      ]
     },
     "metadata": {
      "needs_background": "light"
     },
     "output_type": "display_data"
    }
   ],
   "source": [
    "plt.figure()\n",
    "plt.plot(dataDict['xFRF'],HsTS)\n",
    "plt.ylabel('$H_s$ (m)')\n",
    "plt.xlabel('x (m)')\n",
    "plt.show()"
   ]
  },
  {
   "cell_type": "code",
   "execution_count": 61,
   "id": "9e292e14",
   "metadata": {},
   "outputs": [],
   "source": [
    "generate_CrossShoreTimeseries(workingDir+'/'+testName+'/img', np.mean(dataDict['eta'].squeeze(), axis=0), dataDict['elevation'], dataDict['xFRF'])"
   ]
  },
  {
   "cell_type": "code",
   "execution_count": 63,
   "id": "e6b71fdf",
   "metadata": {},
   "outputs": [
    {
     "data": {
      "image/png": "[encoded data removed]",
      "text/plain": [
       "<IPython.core.display.Image object>"
      ]
     },
     "execution_count": 63,
     "metadata": {},
     "output_type": "execute_result"
    }
   ],
   "source": [
    "from IPython.display import Image\n",
    "Image(workingDir+'/'+testName+'/img'+'.png')"
   ]
  },
  {
   "cell_type": "markdown",
   "id": "74c1f048",
   "metadata": {},
   "source": [
    "## Save Results to netcdf"
   ]
  },
  {
   "cell_type": "code",
   "execution_count": 46,
   "id": "d2870c8e",
   "metadata": {},
   "outputs": [],
   "source": [
    "ncfile = nc4.Dataset('/Users/lszcz/Documents/CMTB/cmtb/data/test4.nc',mode='w')\n"
   ]
  },
  {
   "cell_type": "code",
   "execution_count": 51,
   "id": "43e22f57",
   "metadata": {},
   "outputs": [],
   "source": [
    "x_dim = ncfile.createDimension('x', len(dataDict['xFRF']))  \n",
    "y_dim = ncfile.createDimension('y', len(dataDict['yFRF']))    \n",
    "time_dim = ncfile.createDimension('time', len(dataDict['time'])) \n",
    "eta_dim = ncfile.createDimension('eta', len(dataDict['eta']))\n"
   ]
  },
  {
   "cell_type": "code",
   "execution_count": 50,
   "id": "4cc0b128",
   "metadata": {},
   "outputs": [
    {
     "ename": "SyntaxError",
     "evalue": "invalid syntax (2052290495.py, line 2)",
     "output_type": "error",
     "traceback": [
      "\u001b[1;36m  Input \u001b[1;32mIn [50]\u001b[1;36m\u001b[0m\n\u001b[1;33m    y_dim = ncfile.createDimension('y', len(dataDict['yFRF'])\u001b[0m\n\u001b[1;37m    ^\u001b[0m\n\u001b[1;31mSyntaxError\u001b[0m\u001b[1;31m:\u001b[0m invalid syntax\n"
     ]
    }
   ],
   "source": [
    "x_dim = ncfile.createDimension('x', len(dataDict['xFRF'])  \n",
    "y_dim = ncfile.createDimension('y', len(dataDict['yFRF'])    \n",
    "time_dim = ncfile.createDimension('time', len(dataDict['time']) \n",
    "eta_dim = ncfile.createDimension('eta', len(dataDict['eta'])"
   ]
  },
  {
   "cell_type": "code",
   "execution_count": 48,
   "id": "0742c734",
   "metadata": {},
   "outputs": [
    {
     "data": {
      "text/plain": [
       "array([ 25.,  26.,  27.,  28.,  29.,  30.,  31.,  32.,  33.,  34.,  35.,\n",
       "        36.,  37.,  38.,  39.,  40.,  41.,  42.,  43.,  44.,  45.,  46.,\n",
       "        47.,  48.,  49.,  50.,  51.,  52.,  53.,  54.,  55.,  56.,  57.,\n",
       "        58.,  59.,  60.,  61.,  62.,  63.,  64.,  65.,  66.,  67.,  68.,\n",
       "        69.,  70.,  71.,  72.,  73.,  74.,  75.,  76.,  77.,  78.,  79.,\n",
       "        80.,  81.,  82.,  83.,  84.,  85.,  86.,  87.,  88.,  89.,  90.,\n",
       "        91.,  92.,  93.,  94.,  95.,  96.,  97.,  98.,  99., 100., 101.,\n",
       "       102., 103., 104., 105., 106., 107., 108., 109., 110., 111., 112.,\n",
       "       113., 114., 115., 116., 117., 118., 119., 120., 121., 122., 123.,\n",
       "       124., 125., 126., 127., 128., 129., 130., 131., 132., 133., 134.,\n",
       "       135., 136., 137., 138., 139., 140., 141., 142., 143., 144., 145.,\n",
       "       146., 147., 148., 149., 150., 151., 152., 153., 154., 155., 156.,\n",
       "       157., 158., 159., 160., 161., 162., 163., 164., 165., 166., 167.,\n",
       "       168., 169., 170., 171., 172., 173., 174., 175., 176., 177., 178.,\n",
       "       179., 180., 181., 182., 183., 184., 185., 186., 187., 188., 189.,\n",
       "       190., 191., 192., 193., 194., 195., 196., 197., 198., 199., 200.,\n",
       "       201., 202., 203., 204., 205., 206., 207., 208., 209., 210., 211.,\n",
       "       212., 213., 214., 215., 216., 217., 218., 219., 220., 221., 222.,\n",
       "       223., 224., 225., 226., 227., 228., 229., 230., 231., 232., 233.,\n",
       "       234., 235., 236., 237., 238., 239., 240., 241., 242., 243., 244.,\n",
       "       245., 246., 247., 248., 249., 250., 251., 252., 253., 254., 255.,\n",
       "       256., 257., 258., 259., 260., 261., 262., 263., 264., 265., 266.,\n",
       "       267., 268., 269., 270., 271., 272., 273., 274., 275., 276., 277.,\n",
       "       278., 279., 280., 281., 282., 283., 284., 285., 286., 287., 288.,\n",
       "       289., 290., 291., 292., 293., 294., 295., 296., 297., 298., 299.,\n",
       "       300., 301., 302., 303., 304., 305., 306., 307., 308., 309., 310.,\n",
       "       311., 312., 313., 314., 315., 316., 317., 318., 319., 320., 321.,\n",
       "       322., 323., 324., 325., 326., 327., 328., 329., 330., 331., 332.,\n",
       "       333., 334., 335., 336., 337., 338., 339., 340., 341., 342., 343.,\n",
       "       344., 345., 346., 347., 348., 349., 350., 351., 352., 353., 354.,\n",
       "       355., 356., 357., 358., 359., 360., 361., 362., 363., 364., 365.,\n",
       "       366., 367., 368., 369., 370., 371., 372., 373., 374., 375., 376.,\n",
       "       377., 378., 379., 380., 381., 382., 383., 384., 385., 386., 387.,\n",
       "       388., 389., 390., 391., 392., 393., 394., 395., 396., 397., 398.,\n",
       "       399., 400., 401., 402., 403., 404., 405., 406., 407., 408., 409.,\n",
       "       410., 411., 412., 413., 414., 415., 416., 417., 418., 419., 420.,\n",
       "       421., 422., 423., 424., 425., 426., 427., 428., 429., 430., 431.,\n",
       "       432., 433., 434., 435., 436., 437., 438., 439., 440., 441., 442.,\n",
       "       443., 444., 445., 446., 447., 448., 449., 450., 451., 452., 453.,\n",
       "       454., 455., 456., 457., 458., 459., 460., 461., 462., 463., 464.,\n",
       "       465., 466., 467., 468., 469., 470., 471., 472., 473., 474., 475.,\n",
       "       476., 477., 478., 479., 480., 481., 482., 483., 484., 485., 486.,\n",
       "       487., 488., 489., 490., 491., 492., 493., 494., 495., 496., 497.,\n",
       "       498., 499., 500., 501., 502., 503., 504., 505., 506., 507., 508.,\n",
       "       509., 510., 511., 512., 513., 514., 515., 516., 517., 518., 519.,\n",
       "       520., 521., 522., 523., 524., 525., 526., 527., 528., 529., 530.,\n",
       "       531., 532., 533., 534., 535., 536., 537., 538., 539., 540., 541.,\n",
       "       542., 543., 544., 545., 546., 547., 548., 549., 550., 551., 552.,\n",
       "       553., 554., 555., 556., 557., 558., 559., 560., 561., 562., 563.,\n",
       "       564., 565., 566., 567., 568., 569., 570., 571., 572., 573., 574.,\n",
       "       575., 576., 577., 578., 579., 580., 581., 582., 583., 584., 585.,\n",
       "       586., 587., 588., 589., 590., 591., 592., 593., 594., 595., 596.,\n",
       "       597., 598., 599., 600., 601., 602., 603., 604., 605., 606., 607.,\n",
       "       608., 609., 610., 611., 612., 613., 614., 615., 616., 617., 618.,\n",
       "       619., 620., 621., 622., 623., 624., 625., 626., 627., 628., 629.,\n",
       "       630., 631., 632., 633., 634., 635., 636., 637., 638., 639., 640.,\n",
       "       641., 642., 643., 644., 645., 646., 647., 648., 649., 650., 651.,\n",
       "       652., 653., 654., 655., 656., 657., 658., 659., 660., 661., 662.,\n",
       "       663., 664., 665., 666., 667., 668., 669., 670., 671., 672., 673.,\n",
       "       674., 675., 676., 677., 678., 679., 680., 681., 682., 683., 684.,\n",
       "       685., 686., 687., 688., 689., 690., 691., 692., 693., 694., 695.,\n",
       "       696., 697., 698., 699., 700., 701., 702., 703., 704., 705., 706.,\n",
       "       707., 708., 709., 710., 711., 712., 713., 714., 715., 716., 717.,\n",
       "       718., 719., 720., 721., 722., 723., 724., 725., 726., 727., 728.,\n",
       "       729., 730., 731., 732., 733., 734., 735., 736., 737., 738., 739.,\n",
       "       740., 741., 742., 743., 744., 745., 746., 747., 748., 749., 750.,\n",
       "       751., 752., 753., 754., 755., 756., 757., 758., 759., 760., 761.,\n",
       "       762., 763., 764., 765., 766., 767., 768., 769., 770., 771., 772.,\n",
       "       773., 774., 775., 776., 777., 778., 779., 780., 781., 782., 783.,\n",
       "       784., 785., 786., 787., 788., 789., 790., 791., 792., 793., 794.,\n",
       "       795., 796., 797., 798., 799., 800., 801., 802., 803., 804., 805.,\n",
       "       806., 807., 808., 809., 810., 811., 812., 813., 814., 815., 816.,\n",
       "       817., 818., 819., 820., 821., 822., 823., 824., 825., 826., 827.,\n",
       "       828., 829., 830., 831., 832., 833., 834., 835., 836., 837., 838.,\n",
       "       839., 840., 841., 842., 843., 844., 845., 846., 847., 848., 849.,\n",
       "       850., 851., 852., 853., 854., 855., 856., 857., 858., 859., 860.,\n",
       "       861., 862., 863., 864., 865., 866., 867., 868., 869., 870., 871.,\n",
       "       872., 873., 874., 875., 876., 877., 878., 879., 880., 881., 882.,\n",
       "       883., 884., 885., 886., 887., 888., 889., 890., 891., 892., 893.,\n",
       "       894., 895., 896., 897., 898., 899., 900., 901., 902., 903., 904.,\n",
       "       905., 906., 907., 908., 909., 910., 911., 912., 913., 914.],\n",
       "      dtype=float32)"
      ]
     },
     "execution_count": 48,
     "metadata": {},
     "output_type": "execute_result"
    }
   ],
   "source": [
    "dataDict['xFRF']"
   ]
  },
  {
   "cell_type": "code",
   "execution_count": 41,
   "id": "603d912d",
   "metadata": {},
   "outputs": [],
   "source": [
    "parms = ncfile.createGroup('dataDict')"
   ]
  },
  {
   "cell_type": "code",
   "execution_count": 42,
   "id": "a4266e58",
   "metadata": {},
   "outputs": [
    {
     "ename": "TypeError",
     "evalue": "illegal data type for attribute b'time', must be one of dict_keys(['S1', 'i1', 'u1', 'i2', 'u2', 'i4', 'u4', 'i8', 'u8', 'f4', 'f8']), got O",
     "output_type": "error",
     "traceback": [
      "\u001b[1;31m---------------------------------------------------------------------------\u001b[0m",
      "\u001b[1;31mTypeError\u001b[0m                                 Traceback (most recent call last)",
      "Input \u001b[1;32mIn [42]\u001b[0m, in \u001b[0;36m<cell line: 1>\u001b[1;34m()\u001b[0m\n\u001b[0;32m      1\u001b[0m \u001b[38;5;28;01mfor\u001b[39;00m k,v \u001b[38;5;129;01min\u001b[39;00m dataDict\u001b[38;5;241m.\u001b[39mitems():\n\u001b[1;32m----> 2\u001b[0m     \u001b[38;5;28;43msetattr\u001b[39;49m\u001b[43m(\u001b[49m\u001b[43mparms\u001b[49m\u001b[43m,\u001b[49m\u001b[43m \u001b[49m\u001b[43mk\u001b[49m\u001b[43m,\u001b[49m\u001b[43m \u001b[49m\u001b[43mv\u001b[49m\u001b[43m)\u001b[49m\n",
      "File \u001b[1;32msrc\\netCDF4\\_netCDF4.pyx:2986\u001b[0m, in \u001b[0;36mnetCDF4._netCDF4.Dataset.__setattr__\u001b[1;34m()\u001b[0m\n",
      "File \u001b[1;32msrc\\netCDF4\\_netCDF4.pyx:2916\u001b[0m, in \u001b[0;36mnetCDF4._netCDF4.Dataset.setncattr\u001b[1;34m()\u001b[0m\n",
      "File \u001b[1;32msrc\\netCDF4\\_netCDF4.pyx:1688\u001b[0m, in \u001b[0;36mnetCDF4._netCDF4._set_att\u001b[1;34m()\u001b[0m\n",
      "\u001b[1;31mTypeError\u001b[0m: illegal data type for attribute b'time', must be one of dict_keys(['S1', 'i1', 'u1', 'i2', 'u2', 'i4', 'u4', 'i8', 'u8', 'f4', 'f8']), got O"
     ]
    }
   ],
   "source": [
    "for k,v in dataDict.items():\n",
    "    setattr(parms, k, v)"
   ]
  },
  {
   "cell_type": "code",
   "execution_count": 43,
   "id": "9b99713a",
   "metadata": {},
   "outputs": [
    {
     "data": {
      "text/plain": [
       "<class 'netCDF4._netCDF4.Group'>\n",
       "group /dataDict:\n",
       "    dimensions(sizes): \n",
       "    variables(dimensions): \n",
       "    groups: "
      ]
     },
     "execution_count": 43,
     "metadata": {},
     "output_type": "execute_result"
    }
   ],
   "source": [
    "parms\n"
   ]
  },
  {
   "cell_type": "code",
   "execution_count": null,
   "id": "4d872bf6",
   "metadata": {},
   "outputs": [],
   "source": []
  }
 ],
 "metadata": {
  "kernelspec": {
   "display_name": "Python 3 (ipykernel)",
   "language": "python",
   "name": "python3"
  },
  "language_info": {
   "codemirror_mode": {
    "name": "ipython",
    "version": 3
   },
   "file_extension": ".py",
   "mimetype": "text/x-python",
   "name": "python",
   "nbconvert_exporter": "python",
   "pygments_lexer": "ipython3",
   "version": "3.8.8"
  }
 },
 "nbformat": 4,
 "nbformat_minor": 5
}
