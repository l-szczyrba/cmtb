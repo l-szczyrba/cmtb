{
 "cells": [
  {
   "cell_type": "markdown",
   "id": "cd1aa9ea",
   "metadata": {},
   "source": [
    "# Coastal Model Test Bed (CMTB) SWASH 1D Example "
   ]
  },
  {
   "cell_type": "markdown",
   "id": "93d32e7d",
   "metadata": {},
   "source": [
    "#### This notebook walks through the CMTB SWASH 1D Workflow\n",
    "    CMTB sets this up as a \"skinny\" 2D simulation that is effectively 1D\n",
    "    Notebook users will have to download CMTB from github and install the required python packages\n",
    "    Users select simulation settings in the User Input Cell and can walk through the rest of the code\n",
    "    Once CMTB writes the input files, users can run SWASH separately in a command line interface \n",
    "    (commands listed at end of notebook) OR, if users have a SWASH mpiexec compiled (aka SWASH compiled in parallel mode),    \n",
    "    users may run SWASH via CMTB"
   ]
  },
  {
   "cell_type": "markdown",
   "id": "b1a304a5",
   "metadata": {},
   "source": [
    "## Load packages and libraries"
   ]
  },
  {
   "cell_type": "code",
   "execution_count": null,
   "id": "7797d0ff",
   "metadata": {},
   "outputs": [],
   "source": [
    "import sys\n",
    "sys.path.insert(0, '/Users/lszcz/Documents/CMTB/cmtb/')\n",
    "\n",
    "# CMTB \n",
    "from prepdata.prepDataLib import PrepDataTools as preptools\n",
    "from getdatatestbed import getDataFRF\n",
    "from getdatatestbed.getDataFRF import getDataTestBed\n",
    "from prepdata import writeRunRead as wrr\n",
    "from prepdata import inputOutput\n",
    "from testbedutils import waveLib as sbwave\n",
    "from subprocess import check_output\n",
    "from plotting.operationalPlots import generate_CrossShoreTimeseries\n",
    "from plotting import operationalPlots as oP\n",
    "from testbedutils import sblib as sb\n",
    "\n",
    "# Standard utilities\n",
    "import datetime as dt\n",
    "import netCDF4 as nc\n",
    "import numpy as np\n",
    "import os, glob, makenc\n",
    "import matplotlib\n",
    "import matplotlib.pyplot as plt\n",
    "import netCDF4 as nc"
   ]
  },
  {
   "cell_type": "markdown",
   "id": "7d8ae1d2",
   "metadata": {},
   "source": [
    "## User Input Cell: Declare input settings"
   ]
  },
  {
   "cell_type": "code",
   "execution_count": null,
   "id": "3f39ac02",
   "metadata": {},
   "outputs": [],
   "source": [
    "# Define various directories:\n",
    "path_prefix = '/Users/lszcz/Documents/CMTB/cmtb'         # core cmtb path\n",
    "workingDir = '/Users/lszcz/Documents/CMTB/cmtb/data'   \n",
    "exe = '/mirror/swash/swash.exe'\n",
    "# choose location and name of netcdf file with results:\n",
    "npath= '/Users/lszcz/Documents/CMTB/cmtb/data/swash1D_test_mpi/ncresults/results.nc'    \n",
    "# local path to swash_global.yml:\n",
    "fieldYaml = '/Users/lszcz/Documents/CMTB/cmtb/yaml_files/WaveModels/swash/base/swash_global.yml'  \n",
    "# local path to swash_var.yml:\n",
    "varYaml = '/Users/lszcz/Documents/CMTB/cmtb/yaml_files/waveModels/swash/swash_var.yml' \n",
    "\n",
    "# Define simulation\n",
    "testName = 'swash1D_test_mpi'\n",
    "versionPrefix='base'\n",
    "model = 'swash'\n",
    "\n",
    "# Select simulated period\n",
    "date_str = '2019-10-11' \n",
    "startTime = dt.datetime(2019,10,11,15,0,0)          # Start time, Year, month, day, hour\n",
    "endTime = dt.datetime(2019,10,11,16,0,0)            # Stop time, 1 hour after start time, Year, month, day, hour\n",
    "simulationDuration = 1                              # length of time for simulated event (should be 1 hour)\n",
    "spinup = 900                                        # initial spinup time before model output (in seconds)\n",
    "ncores = 18                                         # number of cores to use\n",
    "\n",
    "# Select bathymetric setting\n",
    "bathy_loc = 'survey'\n",
    "profile_num = 945                                   # FRF profile number\n",
    "survey_date = dt.datetime(2019, 10, 15, 23)         # Select survey date (always include 23 aka 11 pm to search for any profile collected that day)\n",
    "xmin = 25                                           # Onshore extent in FRF coordinates\n",
    "xmax = 915                                          # Offshore extent in FRF coordinates\n",
    "dx = 1                                              # Resolution in x\n",
    "dy = 1                                              # Resolution in y \n",
    "fric_fac = 0.015\n",
    "\n",
    "# Select sensor for boundary conditions\n",
    "sensor = '8m-array'                                 # FRF Sensor used to pull wave conditions"
   ]
  },
  {
   "cell_type": "markdown",
   "id": "8e1ed2dd",
   "metadata": {},
   "source": [
    "***\n",
    "***\n",
    "***"
   ]
  },
  {
   "cell_type": "markdown",
   "id": "094a9a32",
   "metadata": {},
   "source": [
    "## Auto-format additional variables"
   ]
  },
  {
   "cell_type": "code",
   "execution_count": null,
   "id": "2f784ad3",
   "metadata": {},
   "outputs": [],
   "source": [
    "runDuration = (endTime - startTime).total_seconds()\n",
    "ymin = profile_num - dy                                              # Extending selected transect for \"Psuedo 1D\" simulation, allowing for a skinny alongshore interpolated grid\n",
    "ymax = profile_num + dy\n",
    "\n",
    "waveTimeList = preptools.timeLists(startTime,endTime,30*60)          # dt in hours\n",
    "wlTimeList = preptools.timeLists(startTime+dt.timedelta(minutes=30), # Finds 1 water level halfway through the target event\n",
    "                                 endTime,30*60)  "
   ]
  },
  {
   "cell_type": "markdown",
   "id": "9486819c",
   "metadata": {},
   "source": [
    "## Gather raw data"
   ]
  },
  {
   "cell_type": "markdown",
   "id": "6777efc8",
   "metadata": {},
   "source": [
    "Waves and water levels"
   ]
  },
  {
   "cell_type": "code",
   "execution_count": null,
   "id": "85167670",
   "metadata": {},
   "outputs": [],
   "source": [
    "go = getDataFRF.getObs(startTime,endTime)    # initialize go command with simulated period"
   ]
  },
  {
   "cell_type": "code",
   "execution_count": null,
   "id": "956cd954",
   "metadata": {},
   "outputs": [],
   "source": [
    "wave_spec = go.getWaveData(sensor,spec=True) # grab raw spectra\n",
    "wl = go.getWL()                              # grab raw water levels"
   ]
  },
  {
   "cell_type": "markdown",
   "id": "92e9e24e",
   "metadata": {},
   "source": [
    "Bathymetry"
   ]
  },
  {
   "cell_type": "code",
   "execution_count": null,
   "id": "e3d9696f",
   "metadata": {},
   "outputs": [],
   "source": [
    "gdTB = getDataTestBed(startTime, endTime)    # initialize gdTB command with simulated period"
   ]
  },
  {
   "cell_type": "code",
   "execution_count": null,
   "id": "d0c6e8a0",
   "metadata": {},
   "outputs": [],
   "source": [
    "bathy_data = gdTB.getBathyIntegratedTransect(method=1,                     # Gathers relevant data (beyond designated bounds) to pass into prepbathy for interpolation\n",
    "                                             ForcedSurveyDate=survey_date, \n",
    "                                             ybounds=[ymin, ymax])        "
   ]
  },
  {
   "cell_type": "markdown",
   "id": "1a832afc",
   "metadata": {},
   "source": [
    "Check out raw data"
   ]
  },
  {
   "cell_type": "code",
   "execution_count": null,
   "id": "41bf8025",
   "metadata": {},
   "outputs": [],
   "source": [
    "plt.figure()\n",
    "plt.plot(wave_spec['wavefreqbin'], wave_spec['fspec'])\n",
    "plt.ylabel('E [$m^2/Hz$]')\n",
    "plt.xlabel('Frequency [$Hz$]')\n",
    "plt.show()"
   ]
  },
  {
   "cell_type": "code",
   "execution_count": null,
   "id": "15307d8d",
   "metadata": {},
   "outputs": [],
   "source": [
    "rmesh, thetamesh = np.meshgrid(wave_spec['wavefreqbin'],wave_spec['wavedirbin'])\n",
    "thetamesh = thetamesh*np.pi/180\n",
    "fig, ax = plt.subplots(subplot_kw=dict(projection='polar'))\n",
    "E_2D_plot = wave_spec['dWED'].T\n",
    "ax.contourf(np.flip(thetamesh), rmesh,E_2D_plot,10)\n",
    "ax.set_theta_zero_location(\"N\")\n",
    "plt.show()"
   ]
  },
  {
   "cell_type": "code",
   "execution_count": null,
   "id": "724859f6",
   "metadata": {},
   "outputs": [],
   "source": [
    "plt.plot(wl['time'], wl['WL'])\n",
    "plt.ylabel('$\\eta$ [$m$]')\n",
    "plt.xlabel('time [$s$]')\n",
    "plt.show()"
   ]
  },
  {
   "cell_type": "markdown",
   "id": "1443e3f1",
   "metadata": {},
   "source": [
    "## Format gathered raw data for SWASH input"
   ]
  },
  {
   "cell_type": "code",
   "execution_count": null,
   "id": "0fd88a23",
   "metadata": {},
   "outputs": [],
   "source": [
    "prepdata = preptools() # initialize prepdata command"
   ]
  },
  {
   "cell_type": "markdown",
   "id": "c5eb10ff",
   "metadata": {},
   "source": [
    "Process wave packet"
   ]
  },
  {
   "cell_type": "code",
   "execution_count": null,
   "id": "9b7ce294",
   "metadata": {},
   "outputs": [],
   "source": [
    "good_freqs = wave_spec['wavefreqbin'][wave_spec['fspec'].mask == False]   \n",
    "    # Above needed otherwise will interpolated frequencies beyond sensor range, skewing energy levels down to -999\n",
    "wavePacket = prepdata.prep_spec_phaseResolved(rawspec=wave_spec, \n",
    "                                              version_prefix=versionPrefix, \n",
    "                                              grid='1D',\n",
    "                                              spinUpTime=spinup, \n",
    "                                              runDuration=runDuration,\n",
    "                                              freqRange=[min(good_freqs), max(good_freqs)]) # Filter down to \"good\" frequencies"
   ]
  },
  {
   "cell_type": "markdown",
   "id": "3675869c",
   "metadata": {},
   "source": [
    "Process water level packet"
   ]
  },
  {
   "cell_type": "code",
   "execution_count": null,
   "id": "70288ebf",
   "metadata": {},
   "outputs": [],
   "source": [
    "wlPacket = prepdata.prep_WL(wl,wlTimeList)\n",
    "        # Should return 1 record for SWASH input"
   ]
  },
  {
   "cell_type": "markdown",
   "id": "bf8d31bf",
   "metadata": {},
   "source": [
    "Process bathy packet"
   ]
  },
  {
   "cell_type": "code",
   "execution_count": null,
   "id": "5a326907",
   "metadata": {},
   "outputs": [],
   "source": [
    "bathyPacket = prepdata.prep_SwashBathy(x0=xmin, \n",
    "                                       y0=profile_num-1, \n",
    "                                       bathy=bathy_data, \n",
    "                                       xBounds=[xmin, xmax+1], \n",
    "                                       yBounds = [ymin,ymax+1], \n",
    "                                       dx=dx, dy=dy)\n",
    "        # if 1D, ybounds should be numbers surrounding target profile number (established in user input cell)\n",
    "        # Xbounds and Ybounds plus 1 because python is 0-indexed"
   ]
  },
  {
   "cell_type": "markdown",
   "id": "2555ca09",
   "metadata": {},
   "source": [
    "Check out processed data"
   ]
  },
  {
   "cell_type": "code",
   "execution_count": null,
   "id": "835175e1",
   "metadata": {},
   "outputs": [],
   "source": [
    "h = bathyPacket['elevation']\n",
    "h = h[2,:]                          # Identify target profile\n",
    "plt.figure()\n",
    "plt.plot(bathyPacket['xFRF'], h)\n",
    "plt.ylabel('h [$m$]')\n",
    "plt.xlabel('x [$m$]')\n",
    "plt.show()"
   ]
  },
  {
   "cell_type": "code",
   "execution_count": null,
   "id": "ae534253",
   "metadata": {},
   "outputs": [],
   "source": [
    "plt.figure()\n",
    "plt.plot(wavePacket['freqbins'], wavePacket['fspec'])\n",
    "plt.ylabel('E [$m^2/Hz$]')\n",
    "plt.xlabel('Frequency [$Hz$]')\n",
    "plt.show()"
   ]
  },
  {
   "cell_type": "code",
   "execution_count": null,
   "id": "ce937502",
   "metadata": {},
   "outputs": [],
   "source": [
    "plt.figure()\n",
    "plt.plot(wl['time'],wl['WL'])\n",
    "plt.plot(wlPacket['time'],wlPacket['avgWL'],marker=\"o\", markersize=20)\n",
    "plt.ylabel('Water Level (m)')\n",
    "plt.xlabel('Date')\n",
    "plt.legend(('Raw WL','Input WL'))\n",
    "plt.show()"
   ]
  },
  {
   "cell_type": "markdown",
   "id": "811a4393",
   "metadata": {},
   "source": [
    "## Setup the SWASH model"
   ]
  },
  {
   "cell_type": "code",
   "execution_count": null,
   "id": "5514b05d",
   "metadata": {},
   "outputs": [],
   "source": [
    "swio = wrr.swashIO(WL=wlPacket['avgWL'], \n",
    "                   equilbTime=wavePacket['spinUp'],  \n",
    "                   Hs=wavePacket['Hs'], \n",
    "                   Tp=1/wavePacket['peakf'],\n",
    "                   Dm=wavePacket['waveDm'],\n",
    "                   workingDirectory=workingDir, \n",
    "                   testName=testName, fileNameBase=date_str,\n",
    "                   version_prefix=versionPrefix, \n",
    "                   runTime=simulationDuration, \n",
    "                   startTime=startTime, \n",
    "                   endTime=endTime,\n",
    "                   runFlag=True, \n",
    "                   generateFlag=False,\n",
    "                   readFlag=True)\n",
    "    # Above initializes swio command"
   ]
  },
  {
   "cell_type": "code",
   "execution_count": null,
   "id": "6dfd3213",
   "metadata": {},
   "outputs": [],
   "source": [
    "swio._replaceDefaultParams()                    # fill out swio command with default model settings\n",
    "\n",
    "if not os.path.isdir(swio.workingDirectory):    # make directory where input files stored\n",
    "    os.makedirs(swio.workingDirectory)\n",
    "os.chdir(swio.workingDirectory)\n",
    "\n",
    "swio._check_input()                             # final checks before writing"
   ]
  },
  {
   "cell_type": "markdown",
   "id": "7b1c7c4d",
   "metadata": {},
   "source": [
    "Write the input files"
   ]
  },
  {
   "cell_type": "code",
   "execution_count": null,
   "id": "34516143",
   "metadata": {},
   "outputs": [],
   "source": [
    "swio.write_spec1D(wavePacket['freqbins'], wavePacket['fspec'])      # writes the SWASH forcing.BND file\n",
    "swio.write_bot(bathyPacket['elevation'])                            # writes the SWASH bathy.BOT file\n",
    "swio.write_sws(gridDict=bathyPacket, WLpacket=wlPacket)             # writes the SWASH INPUT.sws file"
   ]
  },
  {
   "cell_type": "markdown",
   "id": "001b0e42",
   "metadata": {},
   "source": [
    "##  -----------------------------------------------------------------------------------------\n",
    "# RUNING SWASH BELOW, TWO OPTIONS:\n",
    "## (1) Run SWASH separately \n",
    "    Switch to command line, cd to the test directory with input files, and run 'swash INPUT'"
   ]
  },
  {
   "cell_type": "markdown",
   "id": "61fd75b6",
   "metadata": {},
   "source": [
    "## (2) User runs SWASH mpiexec via this notebook in the following cells: \n",
    "    Can be applied if user has SWASH compiled in parallel mode on their machine and can call mpiexec:"
   ]
  },
  {
   "cell_type": "code",
   "execution_count": null,
   "id": "3a26d524",
   "metadata": {},
   "outputs": [],
   "source": [
    "swio._generateRunStrings(exe) # default run string generated by cmtb: 'mpiexec -n 18 /USER/PATHTO.EXE INPUT'\n",
    "# overwriting below to account for windows running ubuntu shell on windows machine\n",
    "swio.runString1 = 'wsl mpiexec -n 18 /mirror/swash/swash.exe INPUT' "
   ]
  },
  {
   "cell_type": "code",
   "execution_count": null,
   "id": "f1e0302d",
   "metadata": {},
   "outputs": [],
   "source": [
    "swio._preprocessCheck()\n",
    "init_t = dt.datetime.now()\n",
    "print('Running {} Simulation starting at {}'.format(swio.modelName, init_t))\n",
    "\n",
    "_ = check_output(swio.runString1, shell=False)            # RUN COMMAND"
   ]
  },
  {
   "cell_type": "markdown",
   "id": "31c1306c",
   "metadata": {},
   "source": [
    "## -----------------------------------------------------------------------------------------\n",
    "## Load in results"
   ]
  },
  {
   "cell_type": "code",
   "execution_count": null,
   "id": "5d45b92d",
   "metadata": {},
   "outputs": [],
   "source": [
    "os.chdir(swio.workingDirectory)                               # switch to where .mat results stored (working directory)\n",
    "[dataDict, metaDict] = swio.loadSwash_Mat(testName+'.mat')    # load in and format results\n",
    "    # (produces a benign warning)"
   ]
  },
  {
   "cell_type": "markdown",
   "id": "3c15b839",
   "metadata": {},
   "source": [
    "Calculate some wave statistics"
   ]
  },
  {
   "cell_type": "code",
   "execution_count": null,
   "id": "57f4c95f",
   "metadata": {},
   "outputs": [],
   "source": [
    "eta = dataDict['eta'].squeeze()\n",
    "\n",
    "fspec, freqs = sbwave.timeSeriesAnalysis1D(dataDict['time'].squeeze(), dataDict['eta'].squeeze(), bandAvg=6)\n",
    "Stats = sbwave.stats1D(fspec=fspec, frqbins=freqs, lowFreq=None, highFreq=None)\n",
    "    # (produces a benign warning)\n",
    "HsTS = 4 * np.std(dataDict['eta'].squeeze(), axis=0)"
   ]
  },
  {
   "cell_type": "code",
   "execution_count": null,
   "id": "efc5076f",
   "metadata": {},
   "outputs": [],
   "source": [
    "# We use 0.08 m for runup threshold\n",
    "r_depth = 0.08  # 4.0 * np.nanmax(np.abs(h[runupInd][1:] - h[runupInd][:-1]))\n",
    "\n",
    "# Pre-allocate runup variable\n",
    "runup = np.zeros(eta.shape[0])\n",
    "x_runup = np.zeros_like(runup)\n",
    "\n",
    "for aa in range(runup.shape[0]):\n",
    "        # Water depth\n",
    "        wdepth = eta[aa, :] + dataDict['elevation']\n",
    "        # Find the runup contour (search from left to right)\n",
    "        wdepth_ind = np.argmin(abs(wdepth - r_depth))  # changed from Chuan's original code\n",
    "        # Store the water surface elevation in matrix\n",
    "        runup[aa] = eta[aa, wdepth_ind]  # unrealistic values for large r_depth\n",
    "        # runup[aa]= -h[wdepth_ind]\n",
    "        # Store runup position\n",
    "        x_runup[aa] = dataDict['xFRF'][wdepth_ind]\n",
    "maxRunup = np.amax(runup)"
   ]
  },
  {
   "cell_type": "markdown",
   "id": "318a36c1",
   "metadata": {},
   "source": [
    "## Check out processed results"
   ]
  },
  {
   "cell_type": "markdown",
   "id": "b4fa1db9",
   "metadata": {},
   "source": [
    "Plot eta"
   ]
  },
  {
   "cell_type": "code",
   "execution_count": null,
   "id": "b82ad6a3",
   "metadata": {},
   "outputs": [],
   "source": [
    "plt.figure()\n",
    "plt.plot(dataDict['time'],dataDict['eta'][:,0,400])\n",
    "plt.ylabel('$\\eta$ (m)')\n",
    "plt.xlabel('Date')\n",
    "plt.show()"
   ]
  },
  {
   "cell_type": "markdown",
   "id": "0d0da1bf",
   "metadata": {},
   "source": [
    "Plot Hs"
   ]
  },
  {
   "cell_type": "code",
   "execution_count": null,
   "id": "57084005",
   "metadata": {},
   "outputs": [],
   "source": [
    "plt.figure()\n",
    "plt.plot(dataDict['xFRF'],HsTS)\n",
    "plt.ylabel('$H_s$ (m)')\n",
    "plt.xlabel('x (m)')\n",
    "plt.show()"
   ]
  },
  {
   "cell_type": "markdown",
   "id": "dd08cf52",
   "metadata": {},
   "source": [
    "Plot setup"
   ]
  },
  {
   "cell_type": "code",
   "execution_count": null,
   "id": "20736e05",
   "metadata": {},
   "outputs": [],
   "source": [
    "if not os.path.exists(os.path.join(path_prefix, 'figures')):\n",
    "        os.makedirs(os.path.join(path_prefix, 'figures'))  # make a directory 'figures' for the simulation plots\n",
    "figurepath = workingDir+'/'+testName+'/'+'figures'"
   ]
  },
  {
   "cell_type": "code",
   "execution_count": null,
   "id": "d94caad4",
   "metadata": {},
   "outputs": [],
   "source": [
    "generate_CrossShoreTimeseries(figurepath+'/setup', np.mean(dataDict['eta'].squeeze(), axis=0), dataDict['elevation'], dataDict['xFRF'])"
   ]
  },
  {
   "cell_type": "code",
   "execution_count": null,
   "id": "0b411852",
   "metadata": {
    "scrolled": true
   },
   "outputs": [],
   "source": [
    "from IPython.display import Image\n",
    "Image(figurepath+'/setup'+'.png')"
   ]
  },
  {
   "cell_type": "markdown",
   "id": "9c406888",
   "metadata": {},
   "source": [
    "Plot timeseries of eta"
   ]
  },
  {
   "cell_type": "code",
   "execution_count": null,
   "id": "6c0a9477",
   "metadata": {},
   "outputs": [],
   "source": [
    "figureBaseFname = 'CMTB_waveModels_{}_{}_'.format(model, versionPrefix) # names the images generated"
   ]
  },
  {
   "cell_type": "code",
   "execution_count": null,
   "id": "0f27a622",
   "metadata": {},
   "outputs": [],
   "source": [
    "# choose the subsample of timesteps to include in the gif\n",
    "nSubSample = 2\n",
    "# Choose frames per second of the generated gif ( fps = nSubSample*dt -->> default option)\n",
    "fps = 20"
   ]
  },
  {
   "cell_type": "code",
   "execution_count": null,
   "id": "f7f2bbcb",
   "metadata": {},
   "outputs": [],
   "source": [
    "for tidx in np.arange(0, len(dataDict['time']), nSubSample).astype(int):\n",
    "            ofPlotName = os.path.join(figurepath, figureBaseFname + 'TS_' + dataDict['time'][tidx].strftime('%Y%m%dT%H%M%S%fZ') +'.png')\n",
    "            oP.generate_CrossShoreTimeseries(ofPlotName, dataDict['eta'][tidx].squeeze(), -dataDict['elevation'], dataDict['xFRF'])"
   ]
  },
  {
   "cell_type": "code",
   "execution_count": null,
   "id": "2fdc54d7",
   "metadata": {},
   "outputs": [],
   "source": [
    "imgList = sorted(glob.glob(os.path.join(figurepath, '*_TS_*.png')))\n",
    "dt = np.median(np.diff(dataDict['time'])).microseconds / 1000000\n",
    "sb.makeMovie(os.path.join(figurepath, figureBaseFname + 'TS_{}.avi'.format(date_str)), imgList, fps=fps)\n",
    "tarOutFile = os.path.join(figurepath, figureBaseFname + 'TS.tar.gz')\n",
    "sb.myTarMaker(tarOutFile, imgList)"
   ]
  },
  {
   "cell_type": "code",
   "execution_count": null,
   "id": "b367943e",
   "metadata": {
    "scrolled": true
   },
   "outputs": [],
   "source": [
    "from IPython.display import Video\n",
    "Video(figurepath+'/'+figureBaseFname + 'TS_{}.mp4'.format(date_str), embed=True)"
   ]
  },
  {
   "cell_type": "markdown",
   "id": "eb68069f",
   "metadata": {},
   "source": [
    "## Save Results to netcdf"
   ]
  },
  {
   "cell_type": "markdown",
   "id": "7980c432",
   "metadata": {},
   "source": [
    "Format a data dictionary for proper netcdf storage"
   ]
  },
  {
   "cell_type": "code",
   "execution_count": null,
   "id": "e7e9f82b",
   "metadata": {},
   "outputs": [],
   "source": [
    "deet = np.median(np.diff(dataDict['time'])).microseconds / 1000000\n",
    "tsTime = np.arange(0, len(dataDict['time'])*deet, deet)\n",
    "spatial = {'time': nc.date2num(startTime, units='seconds since 1970-01-01 00:00:00'),\n",
    "               'station_name': '{} Field Data'.format(model),\n",
    "               'tsTime': tsTime,\n",
    "               'waveHsIG': np.reshape(Stats['Hm0'], (1, len(dataDict['xFRF']))),\n",
    "               'eta': np.swapaxes(dataDict['eta'], 0, 1),\n",
    "               'totalWaterLevel': maxRunup,\n",
    "               'totalWaterLevelTS': np.reshape(runup, (1, len(runup))),\n",
    "               'velocityU': np.swapaxes(dataDict['velocityU'], 0, 1),\n",
    "               'velocityV': np.swapaxes(dataDict['velocityV'], 0, 1),\n",
    "               'waveHs': np.reshape(Stats['Hm0'], (1, len(dataDict['xFRF']))), # or from HsTS??\n",
    "               'xFRF': dataDict['xFRF'],\n",
    "               'yFRF': dataDict['yFRF'][0],\n",
    "               'runTime': np.expand_dims(swio.simulationWallTime, axis=0),\n",
    "               'DX': np.median(np.diff(dataDict['xFRF'])).astype(int),\n",
    "               'DY': 1,    # must be adjusted for 2D simulations\n",
    "               'NI': len(dataDict['xFRF']),\n",
    "               'NJ': dataDict['velocityU'].shape[1],}  # should automatically adjust for 2D simulations"
   ]
  },
  {
   "cell_type": "code",
   "execution_count": null,
   "id": "3030a6b7",
   "metadata": {},
   "outputs": [],
   "source": [
    "flagfname = os.path.join(npath, 'Flags{}.out.txt'.format(date_str)) # the name of flag file\n",
    "makenc.makenc_phaseresolved(data_lib=spatial, globalyaml_fname=fieldYaml, ofname=npath, flagfname=flagfname,\n",
    "                            var_yaml_fname=varYaml)"
   ]
  }
 ],
 "metadata": {
  "kernelspec": {
   "display_name": "Python 3 (ipykernel)",
   "language": "python",
   "name": "python3"
  },
  "language_info": {
   "codemirror_mode": {
    "name": "ipython",
    "version": 3
   },
   "file_extension": ".py",
   "mimetype": "text/x-python",
   "name": "python",
   "nbconvert_exporter": "python",
   "pygments_lexer": "ipython3",
   "version": "3.8.8"
  }
 },
 "nbformat": 4,
 "nbformat_minor": 5
}
