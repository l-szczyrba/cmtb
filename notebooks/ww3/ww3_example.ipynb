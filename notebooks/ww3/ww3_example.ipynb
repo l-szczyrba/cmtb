{
 "cells": [
  {
   "cell_type": "code",
   "execution_count": 4,
   "metadata": {},
   "outputs": [],
   "source": [
    "import sys\n",
    "sys.path.insert(0, '/Users/lszcz/Documents/CMTB/cmtb/')\n",
    "from getdatatestbed import getDataFRF\n",
    "from prepdata.prepDataLib import PrepDataTools as preptools\n",
    "from prepdata import inputOutput\n",
    "#from prepdata import writeRunRead\n",
    "import datetime as dt\n",
    "import matplotlib.pyplot as plt\n",
    "import numpy as np\n",
    "import netCDF4 as nc4\n",
    "import os\n",
    "import f90nml\n",
    "# from plotting import operationalPlots\n",
    "from testbedutils import fileHandling\n",
    "# import py2netCDF as p2nc\n",
    "%matplotlib inline"
   ]
  },
  {
   "cell_type": "code",
   "execution_count": 5,
   "metadata": {},
   "outputs": [],
   "source": [
    "#test\n",
    "#d1 = dt.datetime(2011,8,26,0,0,0)\n",
    "#d2 = dt.datetime(2011,8,27,0,0,0)\n",
    "d1 = dt.datetime(2016,8,26,0,0,0)\n",
    "d2 = dt.datetime(2016,8,27,0,0,0)\n",
    "fname = 'test_2011'\n"
   ]
  },
  {
   "cell_type": "markdown",
   "metadata": {},
   "source": [
    "# Grab the relevant data from the TDS "
   ]
  },
  {
   "cell_type": "code",
   "execution_count": 6,
   "metadata": {},
   "outputs": [],
   "source": [
    "go = getDataFRF.getObs(d1,d2)"
   ]
  },
  {
   "cell_type": "code",
   "execution_count": 7,
   "metadata": {},
   "outputs": [
    {
     "name": "stdout",
     "output_type": "stream",
     "text": [
      "https://chldata.erdc.dren.mil/thredds/dodsC/frf/oceanography/waterlevel/eopNoaaTide/2016/FRF-ocean_waterlevel_eopNoaaTide_201608.nc\n"
     ]
    }
   ],
   "source": [
    "rawWL = go.getWL()"
   ]
  },
  {
   "cell_type": "code",
   "execution_count": 8,
   "metadata": {},
   "outputs": [
    {
     "name": "stderr",
     "output_type": "stream",
     "text": [
      "/Users/lszcz/Documents/CMTB/cmtb\\getdatatestbed\\getDataFRF.py:463: UserWarning: WARNING: getWaveSpec is depreciated, update to use getWaveData, spec=True\n",
      "  warnings.warn(\"WARNING: getWaveSpec is depreciated, update to use getWaveData, spec=True\")\n"
     ]
    },
    {
     "name": "stdout",
     "output_type": "stream",
     "text": [
      "https://chldata.erdc.dren.mil/thredds/dodsC/frf/oceanography/waves/waverider-26m/2016/FRF-ocean_waves_waverider-26m_201608.nc\n",
      " Removing Duplicates from FRF 26m Datawell Waverider Buoy\n"
     ]
    }
   ],
   "source": [
    "rawspec = go.getWaveSpec('waverider-26m')"
   ]
  },
  {
   "cell_type": "code",
   "execution_count": 9,
   "metadata": {},
   "outputs": [
    {
     "name": "stdout",
     "output_type": "stream",
     "text": [
      "https://chldata.erdc.dren.mil/thredds/dodsC/frf/meteorology/wind/derived/2016/FRF-met_wind_derived_201608.nc\n"
     ]
    }
   ],
   "source": [
    "rawwind = go.getWind()"
   ]
  },
  {
   "cell_type": "markdown",
   "metadata": {},
   "source": [
    "## Build a time list that has constant spacing "
   ]
  },
  {
   "cell_type": "code",
   "execution_count": null,
   "metadata": {},
   "outputs": [],
   "source": [
    "\n"
   ]
  },
  {
   "cell_type": "code",
   "execution_count": 10,
   "metadata": {},
   "outputs": [],
   "source": [
    "prepdata = preptools()"
   ]
  },
  {
   "cell_type": "code",
   "execution_count": 11,
   "metadata": {},
   "outputs": [],
   "source": [
    "waveTimeList = preptools.timeLists(d1,d2,30*60)\n",
    "wlTimeList = preptools.timeLists(d1,d2,30*60)\n",
    "windTimeList = preptools.timeLists(d1,d2,30*60)"
   ]
  },
  {
   "cell_type": "code",
   "execution_count": 12,
   "metadata": {},
   "outputs": [],
   "source": [
    "#_, waveTimeList, wlTimeList, _, windTimeList = prepdata.createDifferentTimeLists(d1, d2, rawspec, rawWL,\n",
    "#                                                                                     rawWind=rawwind,simTs=30*60)"
   ]
  },
  {
   "cell_type": "markdown",
   "metadata": {},
   "source": [
    "## Prep Waterlevel, Winds, and Spectra by averaging over respective time, frequency, or dirction dimensions"
   ]
  },
  {
   "cell_type": "code",
   "execution_count": 13,
   "metadata": {},
   "outputs": [
    {
     "name": "stdout",
     "output_type": "stream",
     "text": [
      "  -- 48 WL records with 0 interpolated points\n"
     ]
    }
   ],
   "source": [
    "wl = prepdata.prep_WL(rawWL,wlTimeList)"
   ]
  },
  {
   "cell_type": "code",
   "execution_count": 14,
   "metadata": {},
   "outputs": [
    {
     "data": {
      "text/plain": [
       "<matplotlib.legend.Legend at 0x1a12b8b6df0>"
      ]
     },
     "execution_count": 14,
     "metadata": {},
     "output_type": "execute_result"
    },
    {
     "data": {
      "image/png": "[encoded data removed]",
      "text/plain": [
       "<Figure size 432x288 with 1 Axes>"
      ]
     },
     "metadata": {
      "needs_background": "light"
     },
     "output_type": "display_data"
    }
   ],
   "source": [
    "plt.plot(rawWL['time'],rawWL['WL'])\n",
    "plt.plot(wl['time'],wl['avgWL'],'--')\n",
    "plt.ylabel('Water Level (m)')\n",
    "plt.xlabel('Date')\n",
    "plt.legend(('Raw WL','Avg WL'))\n"
   ]
  },
  {
   "cell_type": "code",
   "execution_count": 15,
   "metadata": {},
   "outputs": [
    {
     "ename": "AssertionError",
     "evalue": "time data types must be the same (for comparison)",
     "output_type": "error",
     "traceback": [
      "\u001b[1;31m---------------------------------------------------------------------------\u001b[0m",
      "\u001b[1;31mAssertionError\u001b[0m                            Traceback (most recent call last)",
      "\u001b[1;32m<ipython-input-15-0a906ec8173e>\u001b[0m in \u001b[0;36m<module>\u001b[1;34m\u001b[0m\n\u001b[1;32m----> 1\u001b[1;33m \u001b[0mwind\u001b[0m \u001b[1;33m=\u001b[0m \u001b[0mprepdata\u001b[0m\u001b[1;33m.\u001b[0m\u001b[0mprep_wind\u001b[0m\u001b[1;33m(\u001b[0m\u001b[0mrawwind\u001b[0m\u001b[1;33m,\u001b[0m\u001b[0mwindTimeList\u001b[0m\u001b[1;33m,\u001b[0m\u001b[0mmodel\u001b[0m\u001b[1;33m=\u001b[0m\u001b[1;34m'ww3'\u001b[0m\u001b[1;33m)\u001b[0m\u001b[1;33m\u001b[0m\u001b[1;33m\u001b[0m\u001b[0m\n\u001b[0m",
      "\u001b[1;32m/Users/lszcz/Documents/CMTB/cmtb\\prepdata\\prepDataLib.py\u001b[0m in \u001b[0;36mprep_wind\u001b[1;34m(self, rawwind, timerecord, **kwargs)\u001b[0m\n\u001b[0;32m   1175\u001b[0m \u001b[1;33m\u001b[0m\u001b[0m\n\u001b[0;32m   1176\u001b[0m                 \u001b[1;32mif\u001b[0m \u001b[0mmodel\u001b[0m \u001b[1;33m==\u001b[0m \u001b[1;34m'ww3'\u001b[0m\u001b[1;33m:\u001b[0m  \u001b[1;31m# operates in global coordinate system instead of local coordinate system\u001b[0m\u001b[1;33m\u001b[0m\u001b[1;33m\u001b[0m\u001b[0m\n\u001b[1;32m-> 1177\u001b[1;33m                     [_, avgspeed, avgDir, flagOut] = self.polartimeavg(timerecord, windTime, windDir,\n\u001b[0m\u001b[0;32m   1178\u001b[0m                                                                         windSpeed, radin=False)\n\u001b[0;32m   1179\u001b[0m                     \u001b[0mstdirec\u001b[0m \u001b[1;33m=\u001b[0m \u001b[0manglesLib\u001b[0m\u001b[1;33m.\u001b[0m\u001b[0mangle_correct\u001b[0m\u001b[1;33m(\u001b[0m\u001b[0mavgDir\u001b[0m\u001b[1;33m+\u001b[0m\u001b[1;36m180\u001b[0m\u001b[1;33m,\u001b[0m \u001b[0mrad\u001b[0m\u001b[1;33m=\u001b[0m\u001b[1;32mFalse\u001b[0m\u001b[1;33m)\u001b[0m  \u001b[1;31m# correct angles to 0-360\u001b[0m\u001b[1;33m\u001b[0m\u001b[1;33m\u001b[0m\u001b[0m\n",
      "\u001b[1;32m/Users/lszcz/Documents/CMTB/cmtb\\prepdata\\prepDataLib.py\u001b[0m in \u001b[0;36mpolartimeavg\u001b[1;34m(self, trtm, trD, dirD, spdD, radin, interp)\u001b[0m\n\u001b[0;32m     93\u001b[0m         \"\"\"\n\u001b[0;32m     94\u001b[0m         \u001b[1;32mfrom\u001b[0m \u001b[0mscipy\u001b[0m \u001b[1;32mimport\u001b[0m \u001b[0minterpolate\u001b[0m\u001b[1;33m\u001b[0m\u001b[1;33m\u001b[0m\u001b[0m\n\u001b[1;32m---> 95\u001b[1;33m         \u001b[1;32massert\u001b[0m \u001b[0misinstance\u001b[0m\u001b[1;33m(\u001b[0m\u001b[0mtrD\u001b[0m\u001b[1;33m[\u001b[0m\u001b[1;36m0\u001b[0m\u001b[1;33m]\u001b[0m\u001b[1;33m,\u001b[0m \u001b[0mfloat\u001b[0m\u001b[1;33m)\u001b[0m \u001b[1;33m==\u001b[0m \u001b[0misinstance\u001b[0m\u001b[1;33m(\u001b[0m\u001b[0mtrtm\u001b[0m\u001b[1;33m[\u001b[0m\u001b[1;36m0\u001b[0m\u001b[1;33m]\u001b[0m\u001b[1;33m,\u001b[0m \u001b[0mfloat\u001b[0m\u001b[1;33m)\u001b[0m\u001b[1;33m,\u001b[0m \u001b[1;34m'time data types must be the same (for comparison)'\u001b[0m\u001b[1;33m\u001b[0m\u001b[1;33m\u001b[0m\u001b[0m\n\u001b[0m\u001b[0;32m     96\u001b[0m         \u001b[0mflagLoc\u001b[0m \u001b[1;33m=\u001b[0m \u001b[0mnp\u001b[0m\u001b[1;33m.\u001b[0m\u001b[0mzeros\u001b[0m\u001b[1;33m(\u001b[0m\u001b[0mnp\u001b[0m\u001b[1;33m.\u001b[0m\u001b[0msize\u001b[0m\u001b[1;33m(\u001b[0m\u001b[0mtrtm\u001b[0m\u001b[1;33m)\u001b[0m\u001b[1;33m)\u001b[0m  \u001b[1;31m# alloccating for x avgDir\u001b[0m\u001b[1;33m\u001b[0m\u001b[1;33m\u001b[0m\u001b[0m\n\u001b[0;32m     97\u001b[0m         \u001b[1;32mif\u001b[0m \u001b[0mnp\u001b[0m\u001b[1;33m.\u001b[0m\u001b[0msize\u001b[0m\u001b[1;33m(\u001b[0m\u001b[0mtrtm\u001b[0m\u001b[1;33m)\u001b[0m \u001b[1;33m==\u001b[0m \u001b[1;36m1\u001b[0m \u001b[1;32mand\u001b[0m \u001b[0mtype\u001b[0m\u001b[1;33m(\u001b[0m\u001b[0mtrtm\u001b[0m\u001b[1;33m)\u001b[0m \u001b[1;32mis\u001b[0m \u001b[1;32mnot\u001b[0m \u001b[0mlist\u001b[0m \u001b[1;32mand\u001b[0m \u001b[0mtype\u001b[0m\u001b[1;33m(\u001b[0m\u001b[0mtrtm\u001b[0m\u001b[1;33m)\u001b[0m \u001b[1;32mis\u001b[0m \u001b[1;32mnot\u001b[0m \u001b[0mnp\u001b[0m\u001b[1;33m.\u001b[0m\u001b[0mndarray\u001b[0m\u001b[1;33m:\u001b[0m\u001b[1;33m\u001b[0m\u001b[1;33m\u001b[0m\u001b[0m\n",
      "\u001b[1;31mAssertionError\u001b[0m: time data types must be the same (for comparison)"
     ]
    }
   ],
   "source": [
    "wind = prepdata.prep_wind(rawwind,windTimeList,model='ww3')"
   ]
  },
  {
   "cell_type": "code",
   "execution_count": 14,
   "metadata": {},
   "outputs": [
    {
     "data": {
      "text/plain": [
       "<matplotlib.legend.Legend at 0x7fb1683fb820>"
      ]
     },
     "execution_count": 14,
     "metadata": {},
     "output_type": "execute_result"
    },
    {
     "data": {
      "image/png": "[encoded data removed]",
      "text/plain": [
       "<Figure size 432x288 with 1 Axes>"
      ]
     },
     "metadata": {
      "needs_background": "light"
     },
     "output_type": "display_data"
    }
   ],
   "source": [
    "plt.plot(rawwind['time'],rawwind['windspeed_corrected'])\n",
    "plt.plot(wind['time'],wind['avgspd'],'--')\n",
    "plt.ylabel('Wind Speed (m/s)')\n",
    "plt.xlabel('Date')\n",
    "plt.legend(('Raw Wind Speed','Avg Wind Speed'))"
   ]
  },
  {
   "cell_type": "code",
   "execution_count": 15,
   "metadata": {},
   "outputs": [],
   "source": [
    "temp = wind['avgdir'] + 180\n",
    "temp[temp>360] = temp[temp>360]-360\n",
    "# Need to fix this in the testbed code"
   ]
  },
  {
   "cell_type": "code",
   "execution_count": 16,
   "metadata": {},
   "outputs": [
    {
     "data": {
      "text/plain": [
       "[<matplotlib.lines.Line2D at 0x7fb1885c60d0>]"
      ]
     },
     "execution_count": 16,
     "metadata": {},
     "output_type": "execute_result"
    },
    {
     "data": {
      "image/png": "[encoded data removed]",
      "text/plain": [
       "<Figure size 432x288 with 1 Axes>"
      ]
     },
     "metadata": {
      "needs_background": "light"
     },
     "output_type": "display_data"
    }
   ],
   "source": [
    "plt.plot(rawwind['time'],rawwind['winddir'],'b')\n",
    "plt.plot(wind['time'],wind['avgdir'],'g')\n",
    "plt.plot(wind['time'],temp,'y-')"
   ]
  },
  {
   "cell_type": "code",
   "execution_count": 17,
   "metadata": {
    "scrolled": true
   },
   "outputs": [
    {
     "name": "stdout",
     "output_type": "stream",
     "text": [
      "number of wave records 48 with 0.0 interpolated points\n"
     ]
    }
   ],
   "source": [
    " wavepacket = prepdata.prep_spec(rawspec, 'Base', datestr=d1.strftime('%Y-%m-%dT%H%M%SZ'), plot=False, full=True, deltaangle=10,\n",
    "                                    outputPath='./', model='ww3', waveTimeList=waveTimeList)"
   ]
  },
  {
   "cell_type": "code",
   "execution_count": 18,
   "metadata": {},
   "outputs": [
    {
     "name": "stdout",
     "output_type": "stream",
     "text": [
      "35\n"
     ]
    }
   ],
   "source": [
    "print(len(wavepacket['wavefreqbin']))"
   ]
  },
  {
   "cell_type": "code",
   "execution_count": 19,
   "metadata": {},
   "outputs": [
    {
     "name": "stdout",
     "output_type": "stream",
     "text": [
      "Bathymetry is taken as closest in HISTORY - operational\n"
     ]
    }
   ],
   "source": [
    "goTb = getDataFRF.getDataTestBed(d1,d2)\n",
    "bathy = goTb.getBathyIntegratedTransect(method=1)"
   ]
  },
  {
   "cell_type": "markdown",
   "metadata": {},
   "source": [
    "check the f1 value for this. "
   ]
  },
  {
   "cell_type": "markdown",
   "metadata": {},
   "source": [
    "# Initilize step to write out IO for WW3 using individual calls"
   ]
  },
  {
   "cell_type": "code",
   "execution_count": 20,
   "metadata": {},
   "outputs": [
    {
     "name": "stdout",
     "output_type": "stream",
     "text": [
      "TODO: Replacing parameters.... whats left can be warned at the end of this process [wrr._replaceDefaultParams]\n"
     ]
    }
   ],
   "source": [
    "wrr = writeRunRead.ww3io(pathPrefix='/Users/rdchlth9/Codes/cmtb_refactor/data/ww3/ww3_test', fNameBase=fname+'_cmtb', versionPrefix='base',\n",
    "                     startTime=d1, endTime=d2, runFlag=False,\n",
    "                     generateFlag=True, readFlag=False)"
   ]
  },
  {
   "cell_type": "code",
   "execution_count": 21,
   "metadata": {},
   "outputs": [],
   "source": [
    "if not os.path.isdir(wrr.workingDirectory):\n",
    "    os.makedirs(wrr.workingDirectory)"
   ]
  },
  {
   "cell_type": "code",
   "execution_count": 22,
   "metadata": {},
   "outputs": [],
   "source": [
    " wrr.savePoints = [[-75.5947,36.2605,'P26'],[-75.7141,36.1999,'P17'],\n",
    "                   [-75.7393, 36.1893,'P11'],[-75.7433,36.1883,'P08'],\n",
    "                   [-75.7465,36.1873,'P06'],[-75.7482,36.1868,'P05'],\n",
    "                   [-75.7487,36.1868,'P04'],[-75.7498,36.1865,'P03'],[-75.7505,36.1863,'P02']]"
   ]
  },
  {
   "cell_type": "code",
   "execution_count": 23,
   "metadata": {},
   "outputs": [],
   "source": [
    "gridName = '/Users/rdchlth9/Codes/cmtb_refactor/grids/ww3/unww3_Irene_REVISED.msh'\n",
    "boundName = '/Users/rdchlth9/Codes/cmtb_refactor/grids/ww3/unww3_Irene_REVISED.inbnd'\n",
    "gridNodes = wrr.readWW3_msh(gridName)"
   ]
  },
  {
   "cell_type": "code",
   "execution_count": 24,
   "metadata": {},
   "outputs": [],
   "source": [
    "bathyPacket = prepdata.prep_Bathy(bathy, gridNodes, unstructured=True)"
   ]
  },
  {
   "cell_type": "markdown",
   "metadata": {},
   "source": [
    "## Write out files for running the model with individual calls"
   ]
  },
  {
   "cell_type": "code",
   "execution_count": 25,
   "metadata": {},
   "outputs": [],
   "source": [
    "wrr.writeWW3_grid(grid_inbindfname=boundName)"
   ]
  },
  {
   "cell_type": "code",
   "execution_count": 26,
   "metadata": {},
   "outputs": [],
   "source": [
    "wrr.write_msh(points=bathyPacket.points,\n",
    "                           cell_data=bathyPacket.cell_data)"
   ]
  },
  {
   "cell_type": "code",
   "execution_count": 27,
   "metadata": {},
   "outputs": [],
   "source": [
    "wrr.writeWW3_namelist()"
   ]
  },
  {
   "cell_type": "code",
   "execution_count": 28,
   "metadata": {},
   "outputs": [
    {
     "data": {
      "text/plain": [
       "'/Users/rdchlth9/Codes/cmtb_refactor/notebooks/ww3/data/ww3/base/test_2011_cmtb/test_2011_cmtb.nc'"
      ]
     },
     "execution_count": 28,
     "metadata": {},
     "output_type": "execute_result"
    }
   ],
   "source": [
    "wrr.writeWW3_spec(wavepacket)"
   ]
  },
  {
   "cell_type": "code",
   "execution_count": 29,
   "metadata": {},
   "outputs": [
    {
     "data": {
      "text/plain": [
       "'/Users/rdchlth9/Codes/cmtb_refactor/notebooks/ww3/data/ww3/base/test_2011_cmtb/spec.list'"
      ]
     },
     "execution_count": 29,
     "metadata": {},
     "output_type": "execute_result"
    }
   ],
   "source": [
    "wrr.writeWW3_speclist(ofname=os.path.join(wrr.workingDirectory,'spec.list'),specFiles=fname+'_cmtb.nc')"
   ]
  },
  {
   "cell_type": "code",
   "execution_count": 30,
   "metadata": {},
   "outputs": [],
   "source": [
    "wrr.writeWW3_bounc(specfileListFileName='spec.list')"
   ]
  },
  {
   "cell_type": "code",
   "execution_count": 31,
   "metadata": {},
   "outputs": [],
   "source": [
    "# wind and water level need to be options to include  issue 30\n",
    "# cannot run with only one save point  issue 29\n",
    "wrr.writeWW3_shel(d1,d2,wind,wl)"
   ]
  },
  {
   "cell_type": "code",
   "execution_count": 32,
   "metadata": {},
   "outputs": [],
   "source": [
    "#\n",
    "wrr.writeWW3_ounf(d1)\n",
    "wrr.writeWW3_ounp(d1)"
   ]
  },
  {
   "cell_type": "code",
   "execution_count": 33,
   "metadata": {},
   "outputs": [],
   "source": [
    "wrr.writeWW3_points()"
   ]
  },
  {
   "cell_type": "markdown",
   "metadata": {},
   "source": [
    "## Run model external to this notebook"
   ]
  },
  {
   "cell_type": "markdown",
   "metadata": {},
   "source": [
    "### Read in results"
   ]
  },
  {
   "cell_type": "code",
   "execution_count": 34,
   "metadata": {},
   "outputs": [],
   "source": [
    "fieldNc = wrr.readWW3_field()\n",
    "bathyout = wrr.readWW3_msh()                                                            # load bathy as input\n"
   ]
  },
  {
   "cell_type": "code",
   "execution_count": 35,
   "metadata": {},
   "outputs": [
    {
     "data": {
      "text/plain": [
       "masked_array(data=[--, --, --, ..., --, --, --],\n",
       "             mask=[ True,  True,  True, ...,  True,  True,  True],\n",
       "       fill_value=9.96921e+36,\n",
       "            dtype=float32)"
      ]
     },
     "execution_count": 35,
     "metadata": {},
     "output_type": "execute_result"
    }
   ],
   "source": [
    "fieldNc['hs'][20,:]"
   ]
  },
  {
   "cell_type": "code",
   "execution_count": 36,
   "metadata": {},
   "outputs": [
    {
     "name": "stderr",
     "output_type": "stream",
     "text": [
      "<ipython-input-36-6b365a255d31>:1: DeprecationWarning: tostring() is deprecated. Use tobytes() instead.\n",
      "  blah = nc4.date2num(nc4.num2date(fieldNc['time'][:],fieldNc['time'].units).data,'seconds since 1970-01-01')\n"
     ]
    }
   ],
   "source": [
    "blah = nc4.date2num(nc4.num2date(fieldNc['time'][:],fieldNc['time'].units).data,'seconds since 1970-01-01')"
   ]
  },
  {
   "cell_type": "code",
   "execution_count": 37,
   "metadata": {},
   "outputs": [
    {
     "name": "stderr",
     "output_type": "stream",
     "text": [
      "<ipython-input-37-5e9e4203b9e7>:1: DeprecationWarning: tostring() is deprecated. Use tobytes() instead.\n",
      "  out = {'time':            nc4.date2num(nc4.num2date(fieldNc['time'][:],fieldNc['time'].units).data,'seconds since 1970-01-01'),\n"
     ]
    }
   ],
   "source": [
    "out = {'time':            nc4.date2num(nc4.num2date(fieldNc['time'][:],fieldNc['time'].units).data,'seconds since 1970-01-01'),\n",
    "        'latitude':        fieldNc['latitude'][:],\n",
    "        'longitude':       fieldNc['longitude'][:],\n",
    "        'meshName':        -999,\n",
    "        'connectivity':    fieldNc['tri'][:],\n",
    "        'three':           np.ones((3)) * -999,\n",
    "        'nfaces':          np.arange(fieldNc['tri'].shape[0], dtype=int),\n",
    "        'nnodes':          np.arange(fieldNc.dimensions['node'].size, dtype=int),\n",
    "        'xFRF':            np.ones_like(fieldNc['latitude'][:]) * -999,\n",
    "        'yFRF':            np.ones_like(fieldNc['latitude'][:]) * -999,\n",
    "        'waveHs':          np.ma.masked_array(fieldNc['hs'][:], mask=fieldNc['hs']._FillValue),\n",
    "        'bathymetry':      bathyout['points'][:,2],  # doesn't need to be expanded into time dimension\n",
    "        'waveTm':          fieldNc['t02'][:],\n",
    "        'waveDm':          fieldNc['dir'][:],\n",
    "        'mapStatus':       fieldNc['MAPSTA'][:]\n",
    "        }\n",
    "#       'dynamicTimeStep': fieldNc['dtd'][:] * 60,  # convert to seconds\n"
   ]
  },
  {
   "cell_type": "code",
   "execution_count": 38,
   "metadata": {},
   "outputs": [
    {
     "name": "stderr",
     "output_type": "stream",
     "text": [
      "/Users/rdchlth9/anaconda3/envs/cmtb/lib/python3.8/site-packages/netCDF4/utils.py:82: RuntimeWarning: overflow encountered in multiply\n",
      "  datout = np.around(scale*data)/scale\n",
      "/Users/rdchlth9/Codes/cmtb_refactor/py2netCDF.py:314: UserWarning: WARNING: valid_min cannot be safely cast to variable dtype\n",
      "  setattr(new_var, attr, template_vars[var][attr])\n",
      "/Users/rdchlth9/Codes/cmtb_refactor/py2netCDF.py:314: UserWarning: WARNING: valid_max cannot be safely cast to variable dtype\n",
      "  setattr(new_var, attr, template_vars[var][attr])\n"
     ]
    }
   ],
   "source": [
    "fieldYaml = '/Users/rdchlth9/Codes/cmtb_refactor/yaml_files/waveModels/%s/base/field_globalmeta.yml' % ('ww3')  # field\n",
    "varYaml = '/Users/rdchlth9/Codes/cmtb_refactor/yaml_files/waveModels/%s/field_var.yml' % ('ww3')\n",
    "#fieldOfname = fileHandling.makeTDSfileStructure('/Users/rdchlth9/Codes/cmtb_refactor/notebooks/ww3/thredds', fldrArch, datestring, 'Field')\n",
    "p2nc.makenc_generic('/Users/rdchlth9/Codes/cmtb_refactor/notebooks/ww3/test.nc', globalYaml=fieldYaml, varYaml=varYaml, data=out)    "
   ]
  },
  {
   "cell_type": "code",
   "execution_count": 39,
   "metadata": {},
   "outputs": [
    {
     "ename": "AttributeError",
     "evalue": "NetCDF: Attribute not found",
     "output_type": "error",
     "traceback": [
      "\u001b[0;31m---------------------------------------------------------------------------\u001b[0m",
      "\u001b[0;31mAttributeError\u001b[0m                            Traceback (most recent call last)",
      "\u001b[0;32m<ipython-input-39-ac2f4cf76af7>\u001b[0m in \u001b[0;36m<module>\u001b[0;34m\u001b[0m\n\u001b[1;32m      3\u001b[0m \u001b[0;32mfor\u001b[0m \u001b[0mvar\u001b[0m \u001b[0;32min\u001b[0m \u001b[0mvariables\u001b[0m\u001b[0;34m:\u001b[0m\u001b[0;34m\u001b[0m\u001b[0;34m\u001b[0m\u001b[0m\n\u001b[1;32m      4\u001b[0m     \u001b[0mplotOutFname\u001b[0m \u001b[0;34m=\u001b[0m \u001b[0;34m'test.png'\u001b[0m\u001b[0;34m\u001b[0m\u001b[0;34m\u001b[0m\u001b[0m\n\u001b[0;32m----> 5\u001b[0;31m     \u001b[0moperationalPlots\u001b[0m\u001b[0;34m.\u001b[0m\u001b[0munstructuredSpatialPlot\u001b[0m\u001b[0;34m(\u001b[0m\u001b[0mplotOutFname\u001b[0m\u001b[0;34m,\u001b[0m \u001b[0mfieldNc\u001b[0m\u001b[0;34m=\u001b[0m\u001b[0mncfile\u001b[0m\u001b[0;34m,\u001b[0m \u001b[0mvariable\u001b[0m\u001b[0;34m=\u001b[0m\u001b[0;34m'waveHs'\u001b[0m\u001b[0;34m,\u001b[0m\u001b[0mtimeIdx\u001b[0m\u001b[0;34m=\u001b[0m\u001b[0;36m25\u001b[0m\u001b[0;34m)\u001b[0m\u001b[0;34m\u001b[0m\u001b[0;34m\u001b[0m\u001b[0m\n\u001b[0m",
      "\u001b[0;32m~/Codes/cmtb_refactor/plotting/operationalPlots.py\u001b[0m in \u001b[0;36munstructuredSpatialPlot\u001b[0;34m(outFname, fieldNc, variable, **kwargs)\u001b[0m\n\u001b[1;32m     35\u001b[0m     \u001b[0mlon\u001b[0m\u001b[0;34m,\u001b[0m \u001b[0mlat\u001b[0m \u001b[0;34m=\u001b[0m \u001b[0mfieldNc\u001b[0m\u001b[0;34m[\u001b[0m\u001b[0;34m'longitude'\u001b[0m\u001b[0;34m]\u001b[0m\u001b[0;34m[\u001b[0m\u001b[0;34m:\u001b[0m\u001b[0;34m]\u001b[0m\u001b[0;34m,\u001b[0m \u001b[0mfieldNc\u001b[0m\u001b[0;34m[\u001b[0m\u001b[0;34m'latitude'\u001b[0m\u001b[0;34m]\u001b[0m\u001b[0;34m[\u001b[0m\u001b[0;34m:\u001b[0m\u001b[0;34m]\u001b[0m\u001b[0;34m\u001b[0m\u001b[0;34m\u001b[0m\u001b[0m\n\u001b[1;32m     36\u001b[0m     \u001b[0mvalue\u001b[0m \u001b[0;34m=\u001b[0m \u001b[0mfieldNc\u001b[0m\u001b[0;34m[\u001b[0m\u001b[0mvariable\u001b[0m\u001b[0;34m]\u001b[0m\u001b[0;34m[\u001b[0m\u001b[0mtimeIDX\u001b[0m\u001b[0;34m,\u001b[0m \u001b[0;34m:\u001b[0m\u001b[0;34m]\u001b[0m\u001b[0;34m\u001b[0m\u001b[0;34m\u001b[0m\u001b[0m\n\u001b[0;32m---> 37\u001b[0;31m     \u001b[0mvalue\u001b[0m\u001b[0;34m[\u001b[0m\u001b[0mvalue\u001b[0m \u001b[0;34m==\u001b[0m \u001b[0mfieldNc\u001b[0m\u001b[0;34m[\u001b[0m\u001b[0mvariable\u001b[0m\u001b[0;34m]\u001b[0m\u001b[0;34m.\u001b[0m\u001b[0m_FillValue\u001b[0m\u001b[0;34m]\u001b[0m \u001b[0;34m=\u001b[0m \u001b[0;36m0.0\u001b[0m\u001b[0;34m\u001b[0m\u001b[0;34m\u001b[0m\u001b[0m\n\u001b[0m\u001b[1;32m     38\u001b[0m     \u001b[0mbathy\u001b[0m \u001b[0;34m=\u001b[0m \u001b[0mfieldNc\u001b[0m\u001b[0;34m[\u001b[0m\u001b[0;34m'bathymetry'\u001b[0m\u001b[0;34m]\u001b[0m\u001b[0;34m[\u001b[0m\u001b[0mtimeIDX\u001b[0m\u001b[0;34m]\u001b[0m\u001b[0;34m\u001b[0m\u001b[0;34m\u001b[0m\u001b[0m\n\u001b[1;32m     39\u001b[0m     \u001b[0mtitle\u001b[0m \u001b[0;34m=\u001b[0m \u001b[0mfieldNc\u001b[0m\u001b[0;34m[\u001b[0m\u001b[0mvariable\u001b[0m\u001b[0;34m]\u001b[0m\u001b[0;34m.\u001b[0m\u001b[0mshort_name\u001b[0m\u001b[0;34m\u001b[0m\u001b[0;34m\u001b[0m\u001b[0m\n",
      "\u001b[0;32mnetCDF4/_netCDF4.pyx\u001b[0m in \u001b[0;36mnetCDF4._netCDF4.Variable.__getattr__\u001b[0;34m()\u001b[0m\n",
      "\u001b[0;32mnetCDF4/_netCDF4.pyx\u001b[0m in \u001b[0;36mnetCDF4._netCDF4.Variable.getncattr\u001b[0;34m()\u001b[0m\n",
      "\u001b[0;32mnetCDF4/_netCDF4.pyx\u001b[0m in \u001b[0;36mnetCDF4._netCDF4._get_att\u001b[0;34m()\u001b[0m\n",
      "\u001b[0;32mnetCDF4/_netCDF4.pyx\u001b[0m in \u001b[0;36mnetCDF4._netCDF4._ensure_nc_success\u001b[0;34m()\u001b[0m\n",
      "\u001b[0;31mAttributeError\u001b[0m: NetCDF: Attribute not found"
     ]
    }
   ],
   "source": [
    "ncfile = nc4.Dataset('/Users/rdchlth9/Codes/cmtb_refactor/notebooks/ww3/test.nc')\n",
    "variables = ncfile.variables.keys()\n",
    "for var in variables:\n",
    "    plotOutFname = 'test.png'\n",
    "    operationalPlots.unstructuredSpatialPlot(plotOutFname, fieldNc=ncfile, variable='waveHs',timeIdx=25)"
   ]
  },
  {
   "cell_type": "code",
   "execution_count": 36,
   "metadata": {},
   "outputs": [],
   "source": [
    "point = wrr.readWW3_point()"
   ]
  },
  {
   "cell_type": "code",
   "execution_count": 38,
   "metadata": {},
   "outputs": [
    {
     "ename": "AttributeError",
     "evalue": "NetCDF: Attribute not found",
     "output_type": "error",
     "traceback": [
      "\u001b[0;31m---------------------------------------------------------------------------\u001b[0m",
      "\u001b[0;31mAttributeError\u001b[0m                            Traceback (most recent call last)",
      "\u001b[0;32m<ipython-input-38-62f25e91ee5e>\u001b[0m in \u001b[0;36m<module>\u001b[0;34m\u001b[0m\n\u001b[0;32m----> 1\u001b[0;31m \u001b[0moperationalPlots\u001b[0m\u001b[0;34m.\u001b[0m\u001b[0mplotUnstructField\u001b[0m\u001b[0;34m(\u001b[0m\u001b[0;34m'test.png'\u001b[0m\u001b[0;34m,\u001b[0m\u001b[0mfield\u001b[0m\u001b[0;34m)\u001b[0m\u001b[0;34m\u001b[0m\u001b[0;34m\u001b[0m\u001b[0m\n\u001b[0m",
      "\u001b[0;32m~/Codes/cmtb_refactor/plotting/operationalPlots.py\u001b[0m in \u001b[0;36mplotUnstructField\u001b[0;34m(ofname, pDict)\u001b[0m\n\u001b[1;32m   2003\u001b[0m \u001b[0;34m\u001b[0m\u001b[0m\n\u001b[1;32m   2004\u001b[0m     \u001b[0;31m# check for dictionary keys\u001b[0m\u001b[0;34m\u001b[0m\u001b[0;34m\u001b[0m\u001b[0;34m\u001b[0m\u001b[0m\n\u001b[0;32m-> 2005\u001b[0;31m     \u001b[0;32massert\u001b[0m \u001b[0;34m'x'\u001b[0m \u001b[0;32min\u001b[0m \u001b[0mpDict\u001b[0m\u001b[0;34m.\u001b[0m\u001b[0mkeys\u001b[0m\u001b[0;34m(\u001b[0m\u001b[0;34m)\u001b[0m\u001b[0;34m,\u001b[0m \u001b[0;34m\"Error: x must be specified\"\u001b[0m\u001b[0;34m\u001b[0m\u001b[0;34m\u001b[0m\u001b[0m\n\u001b[0m\u001b[1;32m   2006\u001b[0m     \u001b[0;32massert\u001b[0m \u001b[0;34m'y'\u001b[0m \u001b[0;32min\u001b[0m \u001b[0mpDict\u001b[0m\u001b[0;34m.\u001b[0m\u001b[0mkeys\u001b[0m\u001b[0;34m(\u001b[0m\u001b[0;34m)\u001b[0m\u001b[0;34m,\u001b[0m \u001b[0;34m\"Error: y must be specified\"\u001b[0m\u001b[0;34m\u001b[0m\u001b[0;34m\u001b[0m\u001b[0m\n\u001b[1;32m   2007\u001b[0m     \u001b[0;32massert\u001b[0m \u001b[0;34m'z'\u001b[0m \u001b[0;32min\u001b[0m \u001b[0mpDict\u001b[0m\u001b[0;34m.\u001b[0m\u001b[0mkeys\u001b[0m\u001b[0;34m(\u001b[0m\u001b[0;34m)\u001b[0m\u001b[0;34m,\u001b[0m \u001b[0;34m\"Error: z must be specified\"\u001b[0m\u001b[0;34m\u001b[0m\u001b[0;34m\u001b[0m\u001b[0m\n",
      "\u001b[0;32mnetCDF4/_netCDF4.pyx\u001b[0m in \u001b[0;36mnetCDF4._netCDF4.Dataset.__getattr__\u001b[0;34m()\u001b[0m\n",
      "\u001b[0;32mnetCDF4/_netCDF4.pyx\u001b[0m in \u001b[0;36mnetCDF4._netCDF4.Dataset.getncattr\u001b[0;34m()\u001b[0m\n",
      "\u001b[0;32mnetCDF4/_netCDF4.pyx\u001b[0m in \u001b[0;36mnetCDF4._netCDF4._get_att\u001b[0;34m()\u001b[0m\n",
      "\u001b[0;32mnetCDF4/_netCDF4.pyx\u001b[0m in \u001b[0;36mnetCDF4._netCDF4._ensure_nc_success\u001b[0;34m()\u001b[0m\n",
      "\u001b[0;31mAttributeError\u001b[0m: NetCDF: Attribute not found"
     ]
    }
   ],
   "source": [
    "operationalPlots.plotUnstructField('test.png',field)"
   ]
  },
  {
   "cell_type": "code",
   "execution_count": 37,
   "metadata": {},
   "outputs": [
    {
     "data": {
      "text/plain": [
       "1.6804755"
      ]
     },
     "execution_count": 37,
     "metadata": {},
     "output_type": "execute_result"
    }
   ],
   "source": [
    "hs = field['hs']\n",
    "hsval = hs[:,:]\n",
    "hsval[hsval == hs._FillValue] = 0.0\n",
    "np.max(hsval[40,:])"
   ]
  },
  {
   "cell_type": "code",
   "execution_count": 38,
   "metadata": {},
   "outputs": [
    {
     "data": {
      "text/plain": [
       "<matplotlib.colorbar.Colorbar at 0x7fbde80d9340>"
      ]
     },
     "execution_count": 38,
     "metadata": {},
     "output_type": "execute_result"
    },
    {
     "data": {
      "image/png": "[encoded data removed]",
      "text/plain": [
       "<Figure size 432x288 with 2 Axes>"
      ]
     },
     "metadata": {
      "needs_background": "light"
     },
     "output_type": "display_data"
    }
   ],
   "source": [
    "plt.contourf(point['direction'][:],point['frequency'][:],point['efth'][20,0,:,:])\n",
    "plt.colorbar()"
   ]
  },
  {
   "cell_type": "code",
   "execution_count": 39,
   "metadata": {},
   "outputs": [
    {
     "data": {
      "text/plain": [
       "<matplotlib.colorbar.Colorbar at 0x7fbde832e0d0>"
      ]
     },
     "execution_count": 39,
     "metadata": {},
     "output_type": "execute_result"
    },
    {
     "data": {
      "image/png": "[encoded data removed]",
      "text/plain": [
       "<Figure size 432x288 with 2 Axes>"
      ]
     },
     "metadata": {
      "needs_background": "light"
     },
     "output_type": "display_data"
    }
   ],
   "source": [
    "plt.tricontourf(field['longitude'][:],field['latitude'][:],np.max(hsval.mask,axis=0))\n",
    "plt.colorbar()"
   ]
  },
  {
   "cell_type": "markdown",
   "metadata": {},
   "source": [
    "## run code through CMTB functions"
   ]
  },
  {
   "cell_type": "code",
   "execution_count": 40,
   "metadata": {},
   "outputs": [],
   "source": [
    "from testbedutils import fileHandling"
   ]
  },
  {
   "cell_type": "code",
   "execution_count": 41,
   "metadata": {},
   "outputs": [],
   "source": [
    "wrr.workingDirectory = wrr.workingDirectory + '_full'"
   ]
  },
  {
   "cell_type": "code",
   "execution_count": 42,
   "metadata": {},
   "outputs": [
    {
     "name": "stdout",
     "output_type": "stream",
     "text": [
      "simulation input/output files and plots will be place in /Users/rdchlth9/Codes/cmtb_refactor/notebooks/ww3/data/ww3/base/test_2011_cmtb_full folder\n"
     ]
    }
   ],
   "source": [
    "fileHandling.makeCMTBfileStructure(wrr.workingDirectory)"
   ]
  },
  {
   "cell_type": "code",
   "execution_count": 43,
   "metadata": {},
   "outputs": [
    {
     "name": "stdout",
     "output_type": "stream",
     "text": [
      "TODO: Replacing parameters.... whats left can be warned at the end of this process [wrr._replaceDefaultParams]\n"
     ]
    }
   ],
   "source": [
    "wrrfull = writeRunRead.ww3io(pathPrefix='/Users/rdchlth9/Codes/cmtb_refactor/data/ww3/ww3_test', fNameBase=fname+'_cmtb_full', versionPrefix='base',\n",
    "                     startTime=d1, endTime=d2, runFlag=False,\n",
    "                     generateFlag=True, readFlag=False)"
   ]
  },
  {
   "cell_type": "code",
   "execution_count": 44,
   "metadata": {},
   "outputs": [],
   "source": [
    "wrrfull.savePoints = wrr.savePoints"
   ]
  },
  {
   "cell_type": "code",
   "execution_count": 45,
   "metadata": {},
   "outputs": [
    {
     "name": "stdout",
     "output_type": "stream",
     "text": [
      "TODO: Replacing parameters.... whats left can be warned at the end of this process [wrr._replaceDefaultParams]\n",
      "writing all ww3 input files \n"
     ]
    }
   ],
   "source": [
    "wrrfull.writeAllFiles(wavepacket, wind, wl, bathyPacket,gridName)"
   ]
  },
  {
   "cell_type": "code",
   "execution_count": null,
   "metadata": {},
   "outputs": [],
   "source": []
  }
 ],
 "metadata": {
  "kernelspec": {
   "display_name": "Python 3",
   "language": "python",
   "name": "python3"
  },
  "language_info": {
   "codemirror_mode": {
    "name": "ipython",
    "version": 3
   },
   "file_extension": ".py",
   "mimetype": "text/x-python",
   "name": "python",
   "nbconvert_exporter": "python",
   "pygments_lexer": "ipython3",
   "version": "3.8.8"
  }
 },
 "nbformat": 4,
 "nbformat_minor": 1
}
